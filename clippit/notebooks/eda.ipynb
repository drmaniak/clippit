{
 "cells": [
  {
   "cell_type": "markdown",
   "id": "312180ba-f898-4ecc-af90-5c41cae6a4a0",
   "metadata": {},
   "source": [
    "# Imports"
   ]
  },
  {
   "cell_type": "code",
   "execution_count": 1,
   "id": "7375488a-2273-4509-8667-acf848a3726f",
   "metadata": {},
   "outputs": [],
   "source": [
    "import os\n",
    "from pathlib import Path"
   ]
  },
  {
   "cell_type": "code",
   "execution_count": 2,
   "id": "e9f62e07-c1b2-4d40-8267-a82f7f4553e2",
   "metadata": {},
   "outputs": [],
   "source": [
    "import numpy as np\n",
    "import pandas as pd\n",
    "import matplotlib.pyplot as plt"
   ]
  },
  {
   "cell_type": "code",
   "execution_count": 3,
   "id": "81323644-dbb3-4ebc-a485-e9c564f25976",
   "metadata": {},
   "outputs": [
    {
     "name": "stderr",
     "output_type": "stream",
     "text": [
      "/home/fullldiesel/miniconda3/envs/mlx2/lib/python3.12/site-packages/tqdm/auto.py:21: TqdmWarning: IProgress not found. Please update jupyter and ipywidgets. See https://ipywidgets.readthedocs.io/en/stable/user_install.html\n",
      "  from .autonotebook import tqdm as notebook_tqdm\n"
     ]
    }
   ],
   "source": [
    "from datasets import load_dataset, Image\n",
    "from transformers import CLIPModel, CLIPProcessor"
   ]
  },
  {
   "cell_type": "code",
   "execution_count": 4,
   "id": "d01c8d3c-63b3-4380-9d89-72869a8fb9a0",
   "metadata": {},
   "outputs": [],
   "source": [
    "import torch\n",
    "from torch.utils.data import Dataset, DataLoader"
   ]
  },
  {
   "cell_type": "markdown",
   "id": "e0df4704-8325-4a7e-af5b-b7ab9c544bd2",
   "metadata": {},
   "source": [
    "# Data"
   ]
  },
  {
   "cell_type": "code",
   "execution_count": 5,
   "id": "691539f9-4c01-4ee6-9d46-fd36bcb74f4d",
   "metadata": {},
   "outputs": [],
   "source": [
    "flickr = \"nlphuji/flickr30k\""
   ]
  },
  {
   "cell_type": "code",
   "execution_count": 6,
   "id": "4ac539e6-4626-4472-a1e8-d7f6ddf0e4d5",
   "metadata": {},
   "outputs": [],
   "source": [
    "fli_ds = load_dataset(flickr)"
   ]
  },
  {
   "cell_type": "code",
   "execution_count": 49,
   "id": "8711c90c-0a2a-43c2-9e5d-2e8e5356568a",
   "metadata": {},
   "outputs": [
    {
     "data": {
      "text/plain": [
       "{'image': <PIL.JpegImagePlugin.JpegImageFile image mode=RGB size=500x230>,\n",
       " 'caption': ['Two men in Germany jumping over a rail at the same time without shirts.',\n",
       "  'Two youths are jumping over a roadside railing, at night.',\n",
       "  'Boys dancing on poles in the middle of the night.',\n",
       "  'Two men with no shirts jumping over a rail.',\n",
       "  'Two guys jumping over a gate together'],\n",
       " 'sentids': ['45', '46', '47', '48', '49'],\n",
       " 'split': 'train',\n",
       " 'img_id': '9',\n",
       " 'filename': '1001545525.jpg'}"
      ]
     },
     "execution_count": 49,
     "metadata": {},
     "output_type": "execute_result"
    }
   ],
   "source": [
    "fli_ds[\"test\"][9]"
   ]
  },
  {
   "cell_type": "code",
   "execution_count": 103,
   "id": "defb473d-806e-4de9-ac82-981604d50521",
   "metadata": {},
   "outputs": [
    {
     "data": {
      "text/plain": [
       "datasets.dataset_dict.DatasetDict"
      ]
     },
     "execution_count": 103,
     "metadata": {},
     "output_type": "execute_result"
    }
   ],
   "source": [
    "type(fli_ds)"
   ]
  },
  {
   "cell_type": "code",
   "execution_count": 121,
   "id": "0e77df2b-3b99-4448-a77e-a7d876e47de7",
   "metadata": {},
   "outputs": [
    {
     "data": {
      "text/plain": [
       "[<PIL.JpegImagePlugin.JpegImageFile image mode=RGB size=427x320>,\n",
       " <PIL.JpegImagePlugin.JpegImageFile image mode=RGB size=500x500>,\n",
       " <PIL.JpegImagePlugin.JpegImageFile image mode=RGB size=500x375>,\n",
       " <PIL.JpegImagePlugin.JpegImageFile image mode=RGB size=500x451>,\n",
       " <PIL.JpegImagePlugin.JpegImageFile image mode=RGB size=500x374>]"
      ]
     },
     "execution_count": 121,
     "metadata": {},
     "output_type": "execute_result"
    }
   ],
   "source": [
    "fli_ds[\"test\"][3100:3105][\"image\"]"
   ]
  },
  {
   "cell_type": "code",
   "execution_count": null,
   "id": "77360ca3-84f4-4a09-987b-1b06f7dbbbb1",
   "metadata": {},
   "outputs": [],
   "source": []
  },
  {
   "cell_type": "code",
   "execution_count": 104,
   "id": "dca72f64-a303-4c86-ac27-6804f6063714",
   "metadata": {},
   "outputs": [],
   "source": [
    "img = fli_ds[\"test\"][0][\"image\"]\n",
    "captions = fli_ds[\"test\"][0][\"caption\"]"
   ]
  },
  {
   "cell_type": "code",
   "execution_count": 122,
   "id": "e8a17a89-df43-40ba-ab69-cfec41f9a830",
   "metadata": {
    "scrolled": true
   },
   "outputs": [
    {
     "data": {
      "text/plain": [
       "['_Image__transformer',\n",
       " '__annotations__',\n",
       " '__array_interface__',\n",
       " '__class__',\n",
       " '__copy__',\n",
       " '__delattr__',\n",
       " '__dict__',\n",
       " '__dir__',\n",
       " '__doc__',\n",
       " '__enter__',\n",
       " '__eq__',\n",
       " '__exit__',\n",
       " '__format__',\n",
       " '__ge__',\n",
       " '__getattr__',\n",
       " '__getattribute__',\n",
       " '__getstate__',\n",
       " '__gt__',\n",
       " '__hash__',\n",
       " '__init__',\n",
       " '__init_subclass__',\n",
       " '__le__',\n",
       " '__lt__',\n",
       " '__module__',\n",
       " '__ne__',\n",
       " '__new__',\n",
       " '__reduce__',\n",
       " '__reduce_ex__',\n",
       " '__repr__',\n",
       " '__setattr__',\n",
       " '__setstate__',\n",
       " '__sizeof__',\n",
       " '__str__',\n",
       " '__subclasshook__',\n",
       " '__weakref__',\n",
       " '_close_exclusive_fp_after_loading',\n",
       " '_close_fp',\n",
       " '_copy',\n",
       " '_crop',\n",
       " '_dump',\n",
       " '_ensure_mutable',\n",
       " '_exclusive_fp',\n",
       " '_exif',\n",
       " '_exif_offset',\n",
       " '_expand',\n",
       " '_get_safe_box',\n",
       " '_getexif',\n",
       " '_getmp',\n",
       " '_huffman_ac',\n",
       " '_huffman_dc',\n",
       " '_im',\n",
       " '_min_frame',\n",
       " '_mode',\n",
       " '_new',\n",
       " '_open',\n",
       " '_read_dpi_from_exif',\n",
       " '_reload_exif',\n",
       " '_repr_image',\n",
       " '_repr_jpeg_',\n",
       " '_repr_png_',\n",
       " '_repr_pretty_',\n",
       " '_seek_check',\n",
       " '_size',\n",
       " 'alpha_composite',\n",
       " 'app',\n",
       " 'applist',\n",
       " 'apply_transparency',\n",
       " 'bits',\n",
       " 'close',\n",
       " 'convert',\n",
       " 'copy',\n",
       " 'crop',\n",
       " 'custom_mimetype',\n",
       " 'decoderconfig',\n",
       " 'decodermaxblock',\n",
       " 'draft',\n",
       " 'effect_spread',\n",
       " 'encoderconfig',\n",
       " 'entropy',\n",
       " 'filename',\n",
       " 'filter',\n",
       " 'format',\n",
       " 'format_description',\n",
       " 'fp',\n",
       " 'frombytes',\n",
       " 'get_child_images',\n",
       " 'get_format_mimetype',\n",
       " 'getbands',\n",
       " 'getbbox',\n",
       " 'getchannel',\n",
       " 'getcolors',\n",
       " 'getdata',\n",
       " 'getexif',\n",
       " 'getextrema',\n",
       " 'getim',\n",
       " 'getpalette',\n",
       " 'getpixel',\n",
       " 'getprojection',\n",
       " 'getxmp',\n",
       " 'has_transparency_data',\n",
       " 'height',\n",
       " 'histogram',\n",
       " 'icclist',\n",
       " 'im',\n",
       " 'info',\n",
       " 'layer',\n",
       " 'layers',\n",
       " 'load',\n",
       " 'load_djpeg',\n",
       " 'load_end',\n",
       " 'load_prepare',\n",
       " 'load_read',\n",
       " 'map',\n",
       " 'mode',\n",
       " 'palette',\n",
       " 'paste',\n",
       " 'point',\n",
       " 'putalpha',\n",
       " 'putdata',\n",
       " 'putpalette',\n",
       " 'putpixel',\n",
       " 'quantization',\n",
       " 'quantize',\n",
       " 'readonly',\n",
       " 'reduce',\n",
       " 'remap_palette',\n",
       " 'resize',\n",
       " 'rotate',\n",
       " 'save',\n",
       " 'seek',\n",
       " 'show',\n",
       " 'size',\n",
       " 'split',\n",
       " 'tell',\n",
       " 'thumbnail',\n",
       " 'tile',\n",
       " 'tobitmap',\n",
       " 'tobytes',\n",
       " 'toqimage',\n",
       " 'toqpixmap',\n",
       " 'transform',\n",
       " 'transpose',\n",
       " 'verify',\n",
       " 'width']"
      ]
     },
     "execution_count": 122,
     "metadata": {},
     "output_type": "execute_result"
    }
   ],
   "source": [
    "dir(img)"
   ]
  },
  {
   "cell_type": "code",
   "execution_count": 118,
   "id": "cc12f4f7-7121-44cc-95d8-945b2e1ba440",
   "metadata": {},
   "outputs": [
    {
     "data": {
      "image/jpeg": "[encoded data removed]",
      "image/png": "[encoded data removed]",
      "text/plain": [
       "<PIL.Image.Image image mode=RGB size=224x224>"
      ]
     },
     "execution_count": 118,
     "metadata": {},
     "output_type": "execute_result"
    }
   ],
   "source": [
    "img.resize((224, 224))"
   ]
  },
  {
   "cell_type": "code",
   "execution_count": 99,
   "id": "d58a17b1-1266-45ee-a088-c270df2b93f9",
   "metadata": {},
   "outputs": [
    {
     "data": {
      "text/plain": [
       "[['Two young guys with shaggy hair look at their hands while hanging out in the yard.',\n",
       "  'Two young, White males are outside near many bushes.',\n",
       "  'Two men in green shirts are standing in a yard.',\n",
       "  'A man in a blue shirt standing in a garden.',\n",
       "  'Two friends enjoy time spent together.'],\n",
       " ['Several men in hard hats are operating a giant pulley system.',\n",
       "  'Workers look down from up above on a piece of equipment.',\n",
       "  'Two men working on a machine wearing hard hats.',\n",
       "  'Four men on top of a tall structure.',\n",
       "  'Three men on a large rig.'],\n",
       " ['A child in a pink dress is climbing up a set of stairs in an entry way.',\n",
       "  'A little girl in a pink dress going into a wooden cabin.',\n",
       "  'A little girl climbing the stairs to her playhouse.',\n",
       "  'A little girl climbing into a wooden playhouse.',\n",
       "  'A girl going into a wooden building.'],\n",
       " ['Someone in a blue shirt and hat is standing on stair and leaning against a window.',\n",
       "  'A man in a blue shirt is standing on a ladder cleaning a window.',\n",
       "  'A man on a ladder cleans the window of a tall building.',\n",
       "  'Man in blue shirt and jeans on ladder cleaning windows',\n",
       "  'A man on a ladder cleans a window'],\n",
       " ['Two men, one in a gray shirt, one in a black shirt, standing near a stove.',\n",
       "  'Two guy cooking and joking around with the camera.',\n",
       "  'Two men in a kitchen cooking food on a stove.',\n",
       "  'Two men are at the stove preparing food.',\n",
       "  'Two men are cooking a meal.']]"
      ]
     },
     "execution_count": 99,
     "metadata": {},
     "output_type": "execute_result"
    }
   ],
   "source": [
    "captions"
   ]
  },
  {
   "cell_type": "code",
   "execution_count": 78,
   "id": "41494bd2-5d5d-47d5-a5fe-ebd02ff2dcfd",
   "metadata": {},
   "outputs": [],
   "source": [
    "model = CLIPModel.from_pretrained(\"openai/clip-vit-base-patch32\")"
   ]
  },
  {
   "cell_type": "code",
   "execution_count": 79,
   "id": "58298795-3895-4e81-a78b-8d89186979b5",
   "metadata": {},
   "outputs": [],
   "source": [
    "model = CLIPModel.from_pretrained(\"openai/clip-vit-base-patch32\")\n",
    "processor = CLIPProcessor.from_pretrained(\"openai/clip-vit-base-patch32\")"
   ]
  },
  {
   "cell_type": "code",
   "execution_count": 169,
   "id": "7701a421-b905-4be6-a4aa-bda13e2fc29e",
   "metadata": {},
   "outputs": [
    {
     "data": {
      "text/plain": [
       "Embedding(49408, 512)"
      ]
     },
     "execution_count": 169,
     "metadata": {},
     "output_type": "execute_result"
    }
   ],
   "source": [
    "model.text_model.embeddings.token_embedding"
   ]
  },
  {
   "cell_type": "code",
   "execution_count": 173,
   "id": "f030c93d-68ab-46ea-8809-cdd0d910e521",
   "metadata": {},
   "outputs": [
    {
     "data": {
      "text/plain": [
       "CLIPProcessor:\n",
       "- image_processor: CLIPImageProcessor {\n",
       "  \"crop_size\": {\n",
       "    \"height\": 224,\n",
       "    \"width\": 224\n",
       "  },\n",
       "  \"do_center_crop\": true,\n",
       "  \"do_convert_rgb\": true,\n",
       "  \"do_normalize\": true,\n",
       "  \"do_rescale\": true,\n",
       "  \"do_resize\": true,\n",
       "  \"image_mean\": [\n",
       "    0.48145466,\n",
       "    0.4578275,\n",
       "    0.40821073\n",
       "  ],\n",
       "  \"image_processor_type\": \"CLIPImageProcessor\",\n",
       "  \"image_std\": [\n",
       "    0.26862954,\n",
       "    0.26130258,\n",
       "    0.27577711\n",
       "  ],\n",
       "  \"resample\": 3,\n",
       "  \"rescale_factor\": 0.00392156862745098,\n",
       "  \"size\": {\n",
       "    \"shortest_edge\": 224\n",
       "  }\n",
       "}\n",
       "\n",
       "- tokenizer: CLIPTokenizerFast(name_or_path='openai/clip-vit-base-patch32', vocab_size=49408, model_max_length=77, is_fast=True, padding_side='right', truncation_side='right', special_tokens={'bos_token': '<|startoftext|>', 'eos_token': '<|endoftext|>', 'unk_token': '<|endoftext|>', 'pad_token': '<|endoftext|>'}, clean_up_tokenization_spaces=False, added_tokens_decoder={\n",
       "\t49406: AddedToken(\"<|startoftext|>\", rstrip=False, lstrip=False, single_word=False, normalized=True, special=True),\n",
       "\t49407: AddedToken(\"<|endoftext|>\", rstrip=False, lstrip=False, single_word=False, normalized=False, special=True),\n",
       "}\n",
       ")\n",
       "\n",
       "{\n",
       "  \"processor_class\": \"CLIPProcessor\"\n",
       "}"
      ]
     },
     "execution_count": 173,
     "metadata": {},
     "output_type": "execute_result"
    }
   ],
   "source": [
    "processor"
   ]
  },
  {
   "cell_type": "code",
   "execution_count": 174,
   "id": "610974cb-8de2-46bd-b050-05749d4ce6ed",
   "metadata": {},
   "outputs": [
    {
     "data": {
      "text/plain": [
       "49408"
      ]
     },
     "execution_count": 174,
     "metadata": {},
     "output_type": "execute_result"
    }
   ],
   "source": [
    "len(processor.tokenizer)"
   ]
  },
  {
   "cell_type": "code",
   "execution_count": 171,
   "id": "1e5e8966-91ef-466a-9300-eaaa98d6156f",
   "metadata": {},
   "outputs": [
    {
     "data": {
      "text/plain": [
       "CLIPVisionTransformer(\n",
       "  (embeddings): CLIPVisionEmbeddings(\n",
       "    (patch_embedding): Conv2d(3, 768, kernel_size=(32, 32), stride=(32, 32), bias=False)\n",
       "    (position_embedding): Embedding(50, 768)\n",
       "  )\n",
       "  (pre_layrnorm): LayerNorm((768,), eps=1e-05, elementwise_affine=True)\n",
       "  (encoder): CLIPEncoder(\n",
       "    (layers): ModuleList(\n",
       "      (0-11): 12 x CLIPEncoderLayer(\n",
       "        (self_attn): CLIPSdpaAttention(\n",
       "          (k_proj): Linear(in_features=768, out_features=768, bias=True)\n",
       "          (v_proj): Linear(in_features=768, out_features=768, bias=True)\n",
       "          (q_proj): Linear(in_features=768, out_features=768, bias=True)\n",
       "          (out_proj): Linear(in_features=768, out_features=768, bias=True)\n",
       "        )\n",
       "        (layer_norm1): LayerNorm((768,), eps=1e-05, elementwise_affine=True)\n",
       "        (mlp): CLIPMLP(\n",
       "          (activation_fn): QuickGELUActivation()\n",
       "          (fc1): Linear(in_features=768, out_features=3072, bias=True)\n",
       "          (fc2): Linear(in_features=3072, out_features=768, bias=True)\n",
       "        )\n",
       "        (layer_norm2): LayerNorm((768,), eps=1e-05, elementwise_affine=True)\n",
       "      )\n",
       "    )\n",
       "  )\n",
       "  (post_layernorm): LayerNorm((768,), eps=1e-05, elementwise_affine=True)\n",
       ")"
      ]
     },
     "execution_count": 171,
     "metadata": {},
     "output_type": "execute_result"
    }
   ],
   "source": [
    "model.vision_model"
   ]
  },
  {
   "cell_type": "code",
   "execution_count": 163,
   "id": "ab7a362d-8ca1-4135-9742-b4eb93900509",
   "metadata": {},
   "outputs": [
    {
     "data": {
      "text/plain": [
       "transformers.models.clip.processing_clip.CLIPProcessor"
      ]
     },
     "execution_count": 163,
     "metadata": {},
     "output_type": "execute_result"
    }
   ],
   "source": [
    "type(processor)"
   ]
  },
  {
   "cell_type": "code",
   "execution_count": 185,
   "id": "11ddd582-72db-474a-beea-e2dd07c9a1d3",
   "metadata": {},
   "outputs": [
    {
     "data": {
      "text/plain": [
       "dict_keys(['input_ids', 'attention_mask', 'pixel_values'])"
      ]
     },
     "execution_count": 185,
     "metadata": {},
     "output_type": "execute_result"
    }
   ],
   "source": [
    "inp = processor(text=captions, images=img, padding=True, return_tensors=\"pt\")\n",
    "inp.keys()"
   ]
  },
  {
   "cell_type": "code",
   "execution_count": 186,
   "id": "95aaf921-eb02-4eed-9d29-a5dc2d1c99b8",
   "metadata": {},
   "outputs": [
    {
     "data": {
      "text/plain": [
       "odict_keys(['logits_per_image', 'logits_per_text', 'text_embeds', 'image_embeds', 'text_model_output', 'vision_model_output'])"
      ]
     },
     "execution_count": 186,
     "metadata": {},
     "output_type": "execute_result"
    }
   ],
   "source": [
    "op = model(**inp)\n",
    "op.keys()"
   ]
  },
  {
   "cell_type": "code",
   "execution_count": 191,
   "id": "2cc51e0e-fd6d-413b-8714-dff5071d7261",
   "metadata": {},
   "outputs": [],
   "source": [
    "_, i = op[\"logits_per_image\"].topk(2)"
   ]
  },
  {
   "cell_type": "code",
   "execution_count": 201,
   "id": "cd21c09b-aac2-40e0-9400-e560208dc060",
   "metadata": {},
   "outputs": [
    {
     "ename": "TypeError",
     "evalue": "list indices must be integers or slices, not list",
     "output_type": "error",
     "traceback": [
      "\u001b[0;31m---------------------------------------------------------------------------\u001b[0m",
      "\u001b[0;31mTypeError\u001b[0m                                 Traceback (most recent call last)",
      "Cell \u001b[0;32mIn[201], line 1\u001b[0m\n\u001b[0;32m----> 1\u001b[0m \u001b[43mcaptions\u001b[49m\u001b[43m[\u001b[49m\u001b[43mi\u001b[49m\u001b[38;5;241;43m.\u001b[39;49m\u001b[43mtolist\u001b[49m\u001b[43m(\u001b[49m\u001b[43m)\u001b[49m\u001b[43m[\u001b[49m\u001b[38;5;241;43m0\u001b[39;49m\u001b[43m]\u001b[49m\u001b[43m]\u001b[49m\n",
      "\u001b[0;31mTypeError\u001b[0m: list indices must be integers or slices, not list"
     ]
    }
   ],
   "source": [
    "captions[i.tolist()[0]]"
   ]
  },
  {
   "cell_type": "code",
   "execution_count": null,
   "id": "f0e9a3fd-24bf-46ee-aa4d-54dfdafc639d",
   "metadata": {},
   "outputs": [],
   "source": []
  },
  {
   "cell_type": "code",
   "execution_count": 250,
   "id": "0a523e3d-61ac-40b3-a2be-76a1b354017d",
   "metadata": {
    "collapsed": true,
    "jupyter": {
     "outputs_hidden": true
    }
   },
   "outputs": [
    {
     "data": {
      "text/plain": [
       "[-0.0068685803562402725,\n",
       " 0.03290710970759392,\n",
       " -0.00878952257335186,\n",
       " -0.04285396263003349,\n",
       " -0.00110356614459306,\n",
       " 0.001864714315161109,\n",
       " 0.04996149241924286,\n",
       " 0.024585220962762833,\n",
       " 0.0012732098111882806,\n",
       " -0.007449920289218426,\n",
       " 0.022090787068009377,\n",
       " -0.0235744696110487,\n",
       " -0.10609575361013412,\n",
       " 0.014871672727167606,\n",
       " -9.36107462621294e-05,\n",
       " -0.005559461656957865,\n",
       " -0.13383930921554565,\n",
       " 0.017229599878191948,\n",
       " 0.0035680453293025494,\n",
       " 0.016101863235235214,\n",
       " 0.06608162075281143,\n",
       " -0.010151403024792671,\n",
       " -0.009551772847771645,\n",
       " -0.01784190721809864,\n",
       " 0.038331128656864166,\n",
       " -0.024819087237119675,\n",
       " 0.0009879219578579068,\n",
       " 0.011610826477408409,\n",
       " 0.021788325160741806,\n",
       " -0.02901279553771019,\n",
       " -0.03913262113928795,\n",
       " 0.009286673739552498,\n",
       " 0.020069386810064316,\n",
       " -0.010194515809416771,\n",
       " 0.06195051595568657,\n",
       " 0.002361821476370096,\n",
       " -0.015590568073093891,\n",
       " 0.021093104034662247,\n",
       " 0.05367603898048401,\n",
       " -0.002724760677665472,\n",
       " -0.00510044302791357,\n",
       " 0.015143224969506264,\n",
       " -0.018173260614275932,\n",
       " -0.037780240178108215,\n",
       " 0.019959745928645134,\n",
       " 0.0020573686342686415,\n",
       " 0.03985555097460747,\n",
       " 0.027157776057720184,\n",
       " -0.040735676884651184,\n",
       " 0.051832087337970734,\n",
       " -0.0013035013107582927,\n",
       " 0.043814025819301605,\n",
       " 0.005218301899731159,\n",
       " -0.010501732118427753,\n",
       " 0.0008333079749718308,\n",
       " 0.0009324416751042008,\n",
       " -0.014027857221662998,\n",
       " -0.0022530618589371443,\n",
       " -0.055580515414476395,\n",
       " -0.013698112219572067,\n",
       " 0.01853620633482933,\n",
       " -0.01606680080294609,\n",
       " 0.012055587954819202,\n",
       " 0.017818236723542213,\n",
       " 0.009487655945122242,\n",
       " -0.04027779400348663,\n",
       " 0.005157295614480972,\n",
       " 0.14854122698307037,\n",
       " -0.010461514815688133,\n",
       " -0.03165461868047714,\n",
       " 0.0046408772468566895,\n",
       " -0.003174219746142626,\n",
       " -0.030698634684085846,\n",
       " -0.006630977615714073,\n",
       " -0.013997221365571022,\n",
       " 0.0012819059193134308,\n",
       " -0.03654411435127258,\n",
       " -0.002336994046345353,\n",
       " -0.003511629067361355,\n",
       " -0.03368214890360832,\n",
       " 0.048132915049791336,\n",
       " 0.014662370085716248,\n",
       " 0.007491830736398697,\n",
       " 0.021253179758787155,\n",
       " -0.03861257806420326,\n",
       " 0.05155942961573601,\n",
       " 0.0693875327706337,\n",
       " 0.005703045520931482,\n",
       " -0.03548678755760193,\n",
       " -0.029939793050289154,\n",
       " 0.010913719423115253,\n",
       " -0.01077458169311285,\n",
       " -0.6901137232780457,\n",
       " -0.012915609404444695,\n",
       " -0.027629289776086807,\n",
       " -0.002811155281960964,\n",
       " 0.02385128289461136,\n",
       " 0.01651255041360855,\n",
       " -0.090530626475811,\n",
       " -0.023898599669337273,\n",
       " 0.006586616393178701,\n",
       " 0.018405169248580933,\n",
       " 0.00367844314314425,\n",
       " 0.0032299463637173176,\n",
       " 0.05061136186122894,\n",
       " 0.024288877844810486,\n",
       " -0.06278101354837418,\n",
       " -0.03053457662463188,\n",
       " 0.011749863624572754,\n",
       " -0.03233176842331886,\n",
       " 0.022317897528409958,\n",
       " -0.07601756602525711,\n",
       " -0.05648351088166237,\n",
       " -0.013907060958445072,\n",
       " -0.017981454730033875,\n",
       " 0.021710598841309547,\n",
       " -0.010321412235498428,\n",
       " 0.0038088171277195215,\n",
       " 0.017015838995575905,\n",
       " -0.014360995963215828,\n",
       " 0.003792691743001342,\n",
       " 0.02899804152548313,\n",
       " -0.009735546074807644,\n",
       " -0.020277857780456543,\n",
       " -0.017633996903896332,\n",
       " 0.014439508318901062,\n",
       " 0.02928810752928257,\n",
       " 0.020257048308849335,\n",
       " -0.01380807813256979,\n",
       " 0.02305539697408676,\n",
       " 0.05650141462683678,\n",
       " 0.036932382732629776,\n",
       " -0.05541110038757324,\n",
       " 0.09746338427066803,\n",
       " -0.005228109657764435,\n",
       " 0.03192425146698952,\n",
       " -0.02353767305612564,\n",
       " -0.025410933420062065,\n",
       " -0.027739133685827255,\n",
       " -0.01770959608256817,\n",
       " 0.021622268483042717,\n",
       " -0.018269522115588188,\n",
       " -0.011074760928750038,\n",
       " 0.006312237586826086,\n",
       " -0.019226813688874245,\n",
       " 0.006837818305939436,\n",
       " -0.010217644274234772,\n",
       " -0.02099870704114437,\n",
       " -0.05878317356109619,\n",
       " 0.023384006693959236,\n",
       " 0.04658929258584976,\n",
       " -0.0003030387742910534,\n",
       " 0.06420724838972092,\n",
       " -0.011100301519036293,\n",
       " -0.00536905974149704,\n",
       " -0.0002871572214644402,\n",
       " -0.011187056079506874,\n",
       " -0.008125007152557373,\n",
       " 0.017543446272611618,\n",
       " -0.00788226630538702,\n",
       " -0.017954206094145775,\n",
       " -0.0503443107008934,\n",
       " -0.04176904633641243,\n",
       " -0.007656004745513201,\n",
       " 0.06084132567048073,\n",
       " -0.0004580302338581532,\n",
       " 0.03554139658808708,\n",
       " 0.03214455768465996,\n",
       " 0.029797228053212166,\n",
       " -0.016453223302960396,\n",
       " 0.008951051160693169,\n",
       " 0.018268750980496407,\n",
       " -0.005426054820418358,\n",
       " -0.02784857153892517,\n",
       " -0.009472818113863468,\n",
       " -0.006861717440187931,\n",
       " 0.13004793226718903,\n",
       " 0.003378755645826459,\n",
       " -0.04688282310962677,\n",
       " -0.009377784095704556,\n",
       " -0.030344149097800255,\n",
       " -0.0231988113373518,\n",
       " -0.001482534920796752,\n",
       " -0.026947641745209694,\n",
       " 0.030331794172525406,\n",
       " -0.01776902563869953,\n",
       " 0.04449072107672691,\n",
       " 0.0013461931375786662,\n",
       " 0.01049001794308424,\n",
       " 0.012437659315764904,\n",
       " -0.016326095908880234,\n",
       " -0.02122565731406212,\n",
       " 0.03441528230905533,\n",
       " 0.01253539975732565,\n",
       " -0.09617945551872253,\n",
       " 0.004261947702616453,\n",
       " -0.011124132201075554,\n",
       " 0.038618844002485275,\n",
       " 0.04747626557946205,\n",
       " 0.017921190708875656,\n",
       " 0.001299760420806706,\n",
       " -0.0007628225721418858,\n",
       " 0.0023660201113671064,\n",
       " -0.01730068400502205,\n",
       " 0.006151492707431316,\n",
       " 0.023728076368570328,\n",
       " -0.04282026365399361,\n",
       " 0.015884477645158768,\n",
       " 0.029392829164862633,\n",
       " 0.04022740200161934,\n",
       " -0.06690596789121628,\n",
       " 0.006136944983154535,\n",
       " 0.007970331236720085,\n",
       " -0.03211422637104988,\n",
       " 0.006047808565199375,\n",
       " 0.0018718502251431346,\n",
       " -0.008000564761459827,\n",
       " -0.04122848063707352,\n",
       " 0.08507320284843445,\n",
       " -0.03306660056114197,\n",
       " -0.05238821730017662,\n",
       " -0.0028059494215995073,\n",
       " -0.029377583414316177,\n",
       " -0.07104042917490005,\n",
       " 0.002670389600098133,\n",
       " -0.002814352046698332,\n",
       " -0.05623919516801834,\n",
       " -0.02250073105096817,\n",
       " -0.0052267443388700485,\n",
       " -0.03066873736679554,\n",
       " 0.007755802944302559,\n",
       " -0.030307302251458168,\n",
       " -0.02061139978468418,\n",
       " -0.0009868445340543985,\n",
       " -0.007107121404260397,\n",
       " 0.06524235010147095,\n",
       " -0.031795684248209,\n",
       " -0.022628486156463623,\n",
       " 0.0028619617223739624,\n",
       " 0.018638238310813904,\n",
       " 0.012749874964356422,\n",
       " -0.0011061100522056222,\n",
       " -0.007932416163384914,\n",
       " -0.01127475406974554,\n",
       " -0.03211648389697075,\n",
       " -0.02359042875468731,\n",
       " -0.017896171659231186,\n",
       " 0.04336610808968544,\n",
       " -0.02850266359746456,\n",
       " -0.0006425209576264024,\n",
       " -0.037282560020685196,\n",
       " 0.007625286933034658,\n",
       " 0.027716733515262604,\n",
       " 0.0220091063529253,\n",
       " 0.04356931149959564,\n",
       " 0.01703602448105812,\n",
       " -0.026321981102228165,\n",
       " 0.0013402303447946906,\n",
       " 0.04159504920244217,\n",
       " 0.01671096310019493,\n",
       " -0.057358987629413605,\n",
       " 0.01177238393574953,\n",
       " 0.0002513050567358732,\n",
       " -0.11741794645786285,\n",
       " -0.0052938517183065414,\n",
       " -0.01203390397131443,\n",
       " 0.018717516213655472,\n",
       " 0.013797493651509285,\n",
       " 0.02438192069530487,\n",
       " -0.02228853851556778,\n",
       " 0.014025624841451645,\n",
       " 0.007904642261564732,\n",
       " 0.029409153386950493,\n",
       " 0.014469538815319538,\n",
       " 0.016905110329389572,\n",
       " -0.013184666633605957,\n",
       " -0.0214749313890934,\n",
       " -0.04049425199627876,\n",
       " -0.021648352965712547,\n",
       " -0.022569168359041214,\n",
       " 0.005522238556295633,\n",
       " -0.011145520955324173,\n",
       " -0.11081606149673462,\n",
       " 0.03372772037982941,\n",
       " -0.02669483609497547,\n",
       " 0.015836616978049278,\n",
       " 0.020661618560552597,\n",
       " 0.01283032912760973,\n",
       " -0.008892277255654335,\n",
       " 0.0003951416874770075,\n",
       " -0.0174651388078928,\n",
       " 0.011905261315405369,\n",
       " -0.008868345059454441,\n",
       " -0.004626691807061434,\n",
       " 0.0011494661448523402,\n",
       " -0.010429791174829006,\n",
       " 0.017084620893001556,\n",
       " -0.011630935594439507,\n",
       " 0.006804831326007843,\n",
       " -0.03900795057415962,\n",
       " -0.006108867935836315,\n",
       " 0.007107490207999945,\n",
       " -0.0044348957017064095,\n",
       " -0.005091913975775242,\n",
       " 0.024452678859233856,\n",
       " -0.02372276596724987,\n",
       " 0.022080138325691223,\n",
       " 0.029587242752313614,\n",
       " 0.04807998985052109,\n",
       " -0.00889781303703785,\n",
       " -0.0028440875466912985,\n",
       " -0.02784009464085102,\n",
       " 0.09732725471258163,\n",
       " 0.05231413245201111,\n",
       " -0.0003309868334326893,\n",
       " 0.022235874086618423,\n",
       " -0.002130521461367607,\n",
       " 0.06958789378404617,\n",
       " -0.02024185098707676,\n",
       " 0.039125267416238785,\n",
       " 0.0430263951420784,\n",
       " 0.008263444527983665,\n",
       " -0.018861258402466774,\n",
       " -0.02468436025083065,\n",
       " 0.00010334164107916877,\n",
       " 0.036071229726076126,\n",
       " -0.023186862468719482,\n",
       " -0.0068152546882629395,\n",
       " -0.01612585410475731,\n",
       " 0.029202571138739586,\n",
       " -0.030103906989097595,\n",
       " 0.007354894652962685,\n",
       " -0.0029599338304251432,\n",
       " -0.03968608006834984,\n",
       " -0.03070477582514286,\n",
       " 0.010746697895228863,\n",
       " -0.004005202557891607,\n",
       " 0.0032682609744369984,\n",
       " -0.003788623260334134,\n",
       " 0.020106827840209007,\n",
       " 0.01198322419077158,\n",
       " -0.01633628085255623,\n",
       " 0.011770738288760185,\n",
       " -0.025974314659833908,\n",
       " 0.005892524495720863,\n",
       " -0.02381107024848461,\n",
       " -0.013110051862895489,\n",
       " 0.010567590594291687,\n",
       " -0.02526933141052723,\n",
       " 0.0014047645963728428,\n",
       " -0.0009432637016288936,\n",
       " -0.02237074449658394,\n",
       " 0.03708096221089363,\n",
       " -0.049697473645210266,\n",
       " -0.0413566417992115,\n",
       " 0.03826572373509407,\n",
       " 0.009238293394446373,\n",
       " 0.019918739795684814,\n",
       " 0.010390399023890495,\n",
       " -0.009109864942729473,\n",
       " -0.06509912759065628,\n",
       " -0.026842057704925537,\n",
       " 0.012743214145302773,\n",
       " 0.033613886684179306,\n",
       " 0.08555816113948822,\n",
       " -0.023887330666184425,\n",
       " -0.004890429321676493,\n",
       " -0.016821332275867462,\n",
       " 0.008862771093845367,\n",
       " 0.008307837881147861,\n",
       " -0.023823915049433708,\n",
       " 0.04069722816348076,\n",
       " -0.012094559147953987,\n",
       " 0.001769003109075129,\n",
       " 0.02219189889729023,\n",
       " 0.0014394524041563272,\n",
       " 0.1269066035747528,\n",
       " -0.018921315670013428,\n",
       " 0.0063971467316150665,\n",
       " 0.024638919159770012,\n",
       " -0.00750107504427433,\n",
       " -0.03385213017463684,\n",
       " -0.03984535485506058,\n",
       " -0.04996855556964874,\n",
       " -0.022886382415890694,\n",
       " -0.037510015070438385,\n",
       " 0.04702077805995941,\n",
       " -0.0007963045500218868,\n",
       " -0.013481810688972473,\n",
       " 0.013714883476495743,\n",
       " -0.0483718067407608,\n",
       " -0.024312950670719147,\n",
       " 0.04911566153168678,\n",
       " -0.038992635905742645,\n",
       " 0.009588519111275673,\n",
       " 0.016161279752850533,\n",
       " -0.014573602005839348,\n",
       " 0.026483353227376938,\n",
       " -0.005599824711680412,\n",
       " 0.025158720090985298,\n",
       " -0.012859892100095749,\n",
       " 0.0036139178555458784,\n",
       " 0.026048840954899788,\n",
       " 0.0023719945456832647,\n",
       " 0.007476829458028078,\n",
       " -0.011340397410094738,\n",
       " -0.006086996756494045,\n",
       " 0.01842173933982849,\n",
       " 0.026445141062140465,\n",
       " 0.006659365724772215,\n",
       " -0.05947870761156082,\n",
       " 0.036788929253816605,\n",
       " -0.0009637765469960868,\n",
       " 0.031438518315553665,\n",
       " 0.026811333373188972,\n",
       " 0.00789797306060791,\n",
       " -0.014289726503193378,\n",
       " 0.010117718018591404,\n",
       " -0.028241649270057678,\n",
       " -0.008609809912741184,\n",
       " 0.011916350573301315,\n",
       " -0.02863558568060398,\n",
       " 0.05383758246898651,\n",
       " -0.06251806765794754,\n",
       " -0.02188553474843502,\n",
       " 0.006611977703869343,\n",
       " -0.024832021445035934,\n",
       " 0.006641383748501539,\n",
       " 0.05023648589849472,\n",
       " 0.014993718825280666,\n",
       " 0.020351994782686234,\n",
       " 0.032438069581985474,\n",
       " 0.046724386513233185,\n",
       " -0.04520726203918457,\n",
       " 0.01083939429372549,\n",
       " 0.0006531853578053415,\n",
       " -0.045124392956495285,\n",
       " 0.01721152290701866,\n",
       " 0.02140806056559086,\n",
       " -0.027176283299922943,\n",
       " -0.013795140199363232,\n",
       " -0.03184352070093155,\n",
       " -0.008249690756201744,\n",
       " -0.021199079230427742,\n",
       " -0.03150659054517746,\n",
       " -0.016949117183685303,\n",
       " 0.014654449187219143,\n",
       " -0.021448692306876183,\n",
       " -0.019505400210618973,\n",
       " 0.02435234747827053,\n",
       " -0.08264729380607605,\n",
       " -0.009919559583067894,\n",
       " -0.00979910884052515,\n",
       " -0.013302131555974483,\n",
       " -0.001389383221976459,\n",
       " -0.006824695039540529,\n",
       " -0.004960177466273308,\n",
       " -0.02385631762444973,\n",
       " 0.029460271820425987,\n",
       " 0.014794335700571537,\n",
       " 0.014659610576927662,\n",
       " -0.031372398138046265,\n",
       " 0.0209038183093071,\n",
       " -0.019971128553152084,\n",
       " 0.03330929949879646,\n",
       " -0.018347591161727905,\n",
       " 0.016810420900583267,\n",
       " 0.006972538772970438,\n",
       " -0.0531025268137455,\n",
       " 0.0039679063484072685,\n",
       " 0.006434314884245396,\n",
       " -0.03122871369123459,\n",
       " 0.00981899444013834,\n",
       " -0.0658499002456665,\n",
       " -0.01357406284660101,\n",
       " -0.03420693799853325,\n",
       " -0.006468185689300299,\n",
       " -0.017563236877322197,\n",
       " -0.0034383286256343126,\n",
       " -0.02576216123998165,\n",
       " -0.022080782800912857,\n",
       " 0.0009492498938925564,\n",
       " -0.0127722742035985,\n",
       " -0.008457622490823269,\n",
       " 0.0047876411117613316,\n",
       " 0.010800959542393684,\n",
       " 0.024937711656093597,\n",
       " 0.016991423442959785,\n",
       " -0.006018170155584812,\n",
       " -0.01704695262014866,\n",
       " -0.01938922144472599,\n",
       " 0.01907929591834545,\n",
       " -0.0032712516840547323,\n",
       " -0.06265164166688919,\n",
       " -0.017765013501048088,\n",
       " 0.013529361225664616,\n",
       " 0.031091462820768356,\n",
       " 0.04700041562318802,\n",
       " -0.033713892102241516,\n",
       " 0.021937312558293343,\n",
       " -0.04405432939529419,\n",
       " 0.012492003850638866,\n",
       " 0.009618296287953854,\n",
       " -0.005126069765537977,\n",
       " 0.10034137219190598,\n",
       " -0.053622424602508545,\n",
       " -0.026059433817863464,\n",
       " 0.0012838883558288217,\n",
       " -0.03330978378653526,\n",
       " 0.06172608584165573,\n",
       " 0.0024731161538511515,\n",
       " -0.0034185077529400587]"
      ]
     },
     "execution_count": 250,
     "metadata": {},
     "output_type": "execute_result"
    }
   ],
   "source": [
    "op[\"image_embeds\"].squeeze().tolist()"
   ]
  },
  {
   "cell_type": "code",
   "execution_count": 148,
   "id": "ccabdb41-6ad8-4317-8a4c-31d64d09a5f6",
   "metadata": {},
   "outputs": [
    {
     "data": {
      "text/plain": [
       "torch.Size([1, 50, 768])"
      ]
     },
     "execution_count": 148,
     "metadata": {},
     "output_type": "execute_result"
    }
   ],
   "source": [
    "op[\"vision_model_output\"][\"last_hidden_state\"].shape"
   ]
  },
  {
   "cell_type": "code",
   "execution_count": 151,
   "id": "0a922abe-48a9-4793-bf12-ac70b952d8a9",
   "metadata": {
    "scrolled": true
   },
   "outputs": [
    {
     "data": {
      "text/plain": [
       "CLIPOutput(loss=None, logits_per_image=tensor([[32.6571, 31.0840, 32.8633, 29.8758, 24.8078]], grad_fn=<TBackward0>), logits_per_text=tensor([[32.6571],\n",
       "        [31.0840],\n",
       "        [32.8633],\n",
       "        [29.8758],\n",
       "        [24.8078]], grad_fn=<MulBackward0>), text_embeds=tensor([[ 0.0236,  0.0257, -0.0517,  ...,  0.0277,  0.0091,  0.0277],\n",
       "        [-0.0146,  0.0540,  0.0041,  ...,  0.0012, -0.0394, -0.0297],\n",
       "        [ 0.0132,  0.0682, -0.0143,  ...,  0.0200, -0.0219,  0.0311],\n",
       "        [-0.0003,  0.0705, -0.0038,  ..., -0.0250, -0.0333,  0.0180],\n",
       "        [ 0.0135,  0.0129, -0.0342,  ..., -0.0290, -0.0145, -0.0069]],\n",
       "       grad_fn=<DivBackward0>), image_embeds=tensor([[-6.8686e-03,  3.2907e-02, -8.7895e-03, -4.2854e-02, -1.1036e-03,\n",
       "          1.8647e-03,  4.9961e-02,  2.4585e-02,  1.2732e-03, -7.4499e-03,\n",
       "          2.2091e-02, -2.3574e-02, -1.0610e-01,  1.4872e-02, -9.3611e-05,\n",
       "         -5.5595e-03, -1.3384e-01,  1.7230e-02,  3.5680e-03,  1.6102e-02,\n",
       "          6.6082e-02, -1.0151e-02, -9.5518e-03, -1.7842e-02,  3.8331e-02,\n",
       "         -2.4819e-02,  9.8792e-04,  1.1611e-02,  2.1788e-02, -2.9013e-02,\n",
       "         -3.9133e-02,  9.2867e-03,  2.0069e-02, -1.0195e-02,  6.1951e-02,\n",
       "          2.3618e-03, -1.5591e-02,  2.1093e-02,  5.3676e-02, -2.7248e-03,\n",
       "         -5.1004e-03,  1.5143e-02, -1.8173e-02, -3.7780e-02,  1.9960e-02,\n",
       "          2.0574e-03,  3.9856e-02,  2.7158e-02, -4.0736e-02,  5.1832e-02,\n",
       "         -1.3035e-03,  4.3814e-02,  5.2183e-03, -1.0502e-02,  8.3331e-04,\n",
       "          9.3244e-04, -1.4028e-02, -2.2531e-03, -5.5581e-02, -1.3698e-02,\n",
       "          1.8536e-02, -1.6067e-02,  1.2056e-02,  1.7818e-02,  9.4877e-03,\n",
       "         -4.0278e-02,  5.1573e-03,  1.4854e-01, -1.0462e-02, -3.1655e-02,\n",
       "          4.6409e-03, -3.1742e-03, -3.0699e-02, -6.6310e-03, -1.3997e-02,\n",
       "          1.2819e-03, -3.6544e-02, -2.3370e-03, -3.5116e-03, -3.3682e-02,\n",
       "          4.8133e-02,  1.4662e-02,  7.4918e-03,  2.1253e-02, -3.8613e-02,\n",
       "          5.1559e-02,  6.9388e-02,  5.7030e-03, -3.5487e-02, -2.9940e-02,\n",
       "          1.0914e-02, -1.0775e-02, -6.9011e-01, -1.2916e-02, -2.7629e-02,\n",
       "         -2.8112e-03,  2.3851e-02,  1.6513e-02, -9.0531e-02, -2.3899e-02,\n",
       "          6.5866e-03,  1.8405e-02,  3.6784e-03,  3.2299e-03,  5.0611e-02,\n",
       "          2.4289e-02, -6.2781e-02, -3.0535e-02,  1.1750e-02, -3.2332e-02,\n",
       "          2.2318e-02, -7.6018e-02, -5.6484e-02, -1.3907e-02, -1.7981e-02,\n",
       "          2.1711e-02, -1.0321e-02,  3.8088e-03,  1.7016e-02, -1.4361e-02,\n",
       "          3.7927e-03,  2.8998e-02, -9.7355e-03, -2.0278e-02, -1.7634e-02,\n",
       "          1.4440e-02,  2.9288e-02,  2.0257e-02, -1.3808e-02,  2.3055e-02,\n",
       "          5.6501e-02,  3.6932e-02, -5.5411e-02,  9.7463e-02, -5.2281e-03,\n",
       "          3.1924e-02, -2.3538e-02, -2.5411e-02, -2.7739e-02, -1.7710e-02,\n",
       "          2.1622e-02, -1.8270e-02, -1.1075e-02,  6.3122e-03, -1.9227e-02,\n",
       "          6.8378e-03, -1.0218e-02, -2.0999e-02, -5.8783e-02,  2.3384e-02,\n",
       "          4.6589e-02, -3.0304e-04,  6.4207e-02, -1.1100e-02, -5.3691e-03,\n",
       "         -2.8716e-04, -1.1187e-02, -8.1250e-03,  1.7543e-02, -7.8823e-03,\n",
       "         -1.7954e-02, -5.0344e-02, -4.1769e-02, -7.6560e-03,  6.0841e-02,\n",
       "         -4.5803e-04,  3.5541e-02,  3.2145e-02,  2.9797e-02, -1.6453e-02,\n",
       "          8.9511e-03,  1.8269e-02, -5.4261e-03, -2.7849e-02, -9.4728e-03,\n",
       "         -6.8617e-03,  1.3005e-01,  3.3788e-03, -4.6883e-02, -9.3778e-03,\n",
       "         -3.0344e-02, -2.3199e-02, -1.4825e-03, -2.6948e-02,  3.0332e-02,\n",
       "         -1.7769e-02,  4.4491e-02,  1.3462e-03,  1.0490e-02,  1.2438e-02,\n",
       "         -1.6326e-02, -2.1226e-02,  3.4415e-02,  1.2535e-02, -9.6179e-02,\n",
       "          4.2619e-03, -1.1124e-02,  3.8619e-02,  4.7476e-02,  1.7921e-02,\n",
       "          1.2998e-03, -7.6282e-04,  2.3660e-03, -1.7301e-02,  6.1515e-03,\n",
       "          2.3728e-02, -4.2820e-02,  1.5884e-02,  2.9393e-02,  4.0227e-02,\n",
       "         -6.6906e-02,  6.1369e-03,  7.9703e-03, -3.2114e-02,  6.0478e-03,\n",
       "          1.8719e-03, -8.0006e-03, -4.1228e-02,  8.5073e-02, -3.3067e-02,\n",
       "         -5.2388e-02, -2.8059e-03, -2.9378e-02, -7.1040e-02,  2.6704e-03,\n",
       "         -2.8144e-03, -5.6239e-02, -2.2501e-02, -5.2267e-03, -3.0669e-02,\n",
       "          7.7558e-03, -3.0307e-02, -2.0611e-02, -9.8684e-04, -7.1071e-03,\n",
       "          6.5242e-02, -3.1796e-02, -2.2628e-02,  2.8620e-03,  1.8638e-02,\n",
       "          1.2750e-02, -1.1061e-03, -7.9324e-03, -1.1275e-02, -3.2116e-02,\n",
       "         -2.3590e-02, -1.7896e-02,  4.3366e-02, -2.8503e-02, -6.4252e-04,\n",
       "         -3.7283e-02,  7.6253e-03,  2.7717e-02,  2.2009e-02,  4.3569e-02,\n",
       "          1.7036e-02, -2.6322e-02,  1.3402e-03,  4.1595e-02,  1.6711e-02,\n",
       "         -5.7359e-02,  1.1772e-02,  2.5131e-04, -1.1742e-01, -5.2939e-03,\n",
       "         -1.2034e-02,  1.8718e-02,  1.3797e-02,  2.4382e-02, -2.2289e-02,\n",
       "          1.4026e-02,  7.9046e-03,  2.9409e-02,  1.4470e-02,  1.6905e-02,\n",
       "         -1.3185e-02, -2.1475e-02, -4.0494e-02, -2.1648e-02, -2.2569e-02,\n",
       "          5.5222e-03, -1.1146e-02, -1.1082e-01,  3.3728e-02, -2.6695e-02,\n",
       "          1.5837e-02,  2.0662e-02,  1.2830e-02, -8.8923e-03,  3.9514e-04,\n",
       "         -1.7465e-02,  1.1905e-02, -8.8683e-03, -4.6267e-03,  1.1495e-03,\n",
       "         -1.0430e-02,  1.7085e-02, -1.1631e-02,  6.8048e-03, -3.9008e-02,\n",
       "         -6.1089e-03,  7.1075e-03, -4.4349e-03, -5.0919e-03,  2.4453e-02,\n",
       "         -2.3723e-02,  2.2080e-02,  2.9587e-02,  4.8080e-02, -8.8978e-03,\n",
       "         -2.8441e-03, -2.7840e-02,  9.7327e-02,  5.2314e-02, -3.3099e-04,\n",
       "          2.2236e-02, -2.1305e-03,  6.9588e-02, -2.0242e-02,  3.9125e-02,\n",
       "          4.3026e-02,  8.2634e-03, -1.8861e-02, -2.4684e-02,  1.0334e-04,\n",
       "          3.6071e-02, -2.3187e-02, -6.8153e-03, -1.6126e-02,  2.9203e-02,\n",
       "         -3.0104e-02,  7.3549e-03, -2.9599e-03, -3.9686e-02, -3.0705e-02,\n",
       "          1.0747e-02, -4.0052e-03,  3.2683e-03, -3.7886e-03,  2.0107e-02,\n",
       "          1.1983e-02, -1.6336e-02,  1.1771e-02, -2.5974e-02,  5.8925e-03,\n",
       "         -2.3811e-02, -1.3110e-02,  1.0568e-02, -2.5269e-02,  1.4048e-03,\n",
       "         -9.4326e-04, -2.2371e-02,  3.7081e-02, -4.9697e-02, -4.1357e-02,\n",
       "          3.8266e-02,  9.2383e-03,  1.9919e-02,  1.0390e-02, -9.1099e-03,\n",
       "         -6.5099e-02, -2.6842e-02,  1.2743e-02,  3.3614e-02,  8.5558e-02,\n",
       "         -2.3887e-02, -4.8904e-03, -1.6821e-02,  8.8628e-03,  8.3078e-03,\n",
       "         -2.3824e-02,  4.0697e-02, -1.2095e-02,  1.7690e-03,  2.2192e-02,\n",
       "          1.4395e-03,  1.2691e-01, -1.8921e-02,  6.3971e-03,  2.4639e-02,\n",
       "         -7.5011e-03, -3.3852e-02, -3.9845e-02, -4.9969e-02, -2.2886e-02,\n",
       "         -3.7510e-02,  4.7021e-02, -7.9630e-04, -1.3482e-02,  1.3715e-02,\n",
       "         -4.8372e-02, -2.4313e-02,  4.9116e-02, -3.8993e-02,  9.5885e-03,\n",
       "          1.6161e-02, -1.4574e-02,  2.6483e-02, -5.5998e-03,  2.5159e-02,\n",
       "         -1.2860e-02,  3.6139e-03,  2.6049e-02,  2.3720e-03,  7.4768e-03,\n",
       "         -1.1340e-02, -6.0870e-03,  1.8422e-02,  2.6445e-02,  6.6594e-03,\n",
       "         -5.9479e-02,  3.6789e-02, -9.6378e-04,  3.1439e-02,  2.6811e-02,\n",
       "          7.8980e-03, -1.4290e-02,  1.0118e-02, -2.8242e-02, -8.6098e-03,\n",
       "          1.1916e-02, -2.8636e-02,  5.3838e-02, -6.2518e-02, -2.1886e-02,\n",
       "          6.6120e-03, -2.4832e-02,  6.6414e-03,  5.0236e-02,  1.4994e-02,\n",
       "          2.0352e-02,  3.2438e-02,  4.6724e-02, -4.5207e-02,  1.0839e-02,\n",
       "          6.5319e-04, -4.5124e-02,  1.7212e-02,  2.1408e-02, -2.7176e-02,\n",
       "         -1.3795e-02, -3.1844e-02, -8.2497e-03, -2.1199e-02, -3.1507e-02,\n",
       "         -1.6949e-02,  1.4654e-02, -2.1449e-02, -1.9505e-02,  2.4352e-02,\n",
       "         -8.2647e-02, -9.9196e-03, -9.7991e-03, -1.3302e-02, -1.3894e-03,\n",
       "         -6.8247e-03, -4.9602e-03, -2.3856e-02,  2.9460e-02,  1.4794e-02,\n",
       "          1.4660e-02, -3.1372e-02,  2.0904e-02, -1.9971e-02,  3.3309e-02,\n",
       "         -1.8348e-02,  1.6810e-02,  6.9725e-03, -5.3103e-02,  3.9679e-03,\n",
       "          6.4343e-03, -3.1229e-02,  9.8190e-03, -6.5850e-02, -1.3574e-02,\n",
       "         -3.4207e-02, -6.4682e-03, -1.7563e-02, -3.4383e-03, -2.5762e-02,\n",
       "         -2.2081e-02,  9.4925e-04, -1.2772e-02, -8.4576e-03,  4.7876e-03,\n",
       "          1.0801e-02,  2.4938e-02,  1.6991e-02, -6.0182e-03, -1.7047e-02,\n",
       "         -1.9389e-02,  1.9079e-02, -3.2713e-03, -6.2652e-02, -1.7765e-02,\n",
       "          1.3529e-02,  3.1091e-02,  4.7000e-02, -3.3714e-02,  2.1937e-02,\n",
       "         -4.4054e-02,  1.2492e-02,  9.6183e-03, -5.1261e-03,  1.0034e-01,\n",
       "         -5.3622e-02, -2.6059e-02,  1.2839e-03, -3.3310e-02,  6.1726e-02,\n",
       "          2.4731e-03, -3.4185e-03]], grad_fn=<DivBackward0>), text_model_output=BaseModelOutputWithPooling(last_hidden_state=tensor([[[ 0.3393,  0.1165,  0.1020,  ...,  0.2468,  0.5906,  0.1013],\n",
       "         [ 1.5388, -0.9269,  0.0027,  ...,  0.6502,  1.2769, -1.0751],\n",
       "         [ 0.0807, -2.0886, -0.8193,  ..., -0.1717, -0.3324, -0.5988],\n",
       "         ...,\n",
       "         [ 0.6834, -0.0240,  0.0809,  ...,  0.5255, -0.1306,  0.5400],\n",
       "         [ 2.3364, -0.1803, -0.0285,  ...,  2.0876, -1.3056, -0.1391],\n",
       "         [ 2.4399, -0.6065,  0.1238,  ...,  0.5827, -1.8151, -0.8790]],\n",
       "\n",
       "        [[ 0.3393,  0.1165,  0.1020,  ...,  0.2468,  0.5906,  0.1013],\n",
       "         [ 1.5388, -0.9269,  0.0027,  ...,  0.6502,  1.2769, -1.0751],\n",
       "         [ 0.0807, -2.0886, -0.8193,  ..., -0.1717, -0.3324, -0.5988],\n",
       "         ...,\n",
       "         [ 2.1649, -1.1074, -1.2001,  ...,  1.4517, -1.9803, -0.4322],\n",
       "         [ 2.3562, -1.2328, -1.4603,  ...,  0.5794, -2.0695,  0.7114],\n",
       "         [ 2.2428, -1.2647, -1.2479,  ...,  0.3797, -1.7414,  0.9182]],\n",
       "\n",
       "        [[ 0.3393,  0.1165,  0.1020,  ...,  0.2468,  0.5906,  0.1013],\n",
       "         [ 1.5388, -0.9269,  0.0027,  ...,  0.6502,  1.2769, -1.0751],\n",
       "         [ 0.1199, -0.9470,  0.2924,  ...,  0.2654, -0.1267, -1.1674],\n",
       "         ...,\n",
       "         [ 1.4982, -2.0362,  0.1518,  ...,  0.4232, -0.8239, -0.4923],\n",
       "         [ 1.2943, -2.3016, -0.0744,  ..., -0.2246, -0.9318,  0.3818],\n",
       "         [ 1.1705, -2.0858, -0.0165,  ..., -0.1423, -0.7387,  0.3143]],\n",
       "\n",
       "        [[ 0.3393,  0.1165,  0.1020,  ...,  0.2468,  0.5906,  0.1013],\n",
       "         [ 1.9753, -0.5844,  0.3685,  ...,  1.1658,  0.8050, -0.9801],\n",
       "         [ 1.1319, -0.2811, -0.4251,  ...,  1.1118, -0.7140, -1.5363],\n",
       "         ...,\n",
       "         [ 1.8155, -1.4115, -1.1671,  ..., -0.9048, -1.0909,  0.7890],\n",
       "         [ 1.6550, -1.0845, -0.7436,  ..., -0.7517, -0.7116,  0.5027],\n",
       "         [ 1.5570, -0.9559, -0.6233,  ..., -0.6510, -0.5640,  0.4120]],\n",
       "\n",
       "        [[ 0.3393,  0.1165,  0.1020,  ...,  0.2468,  0.5906,  0.1013],\n",
       "         [ 1.5388, -0.9269,  0.0027,  ...,  0.6502,  1.2769, -1.0751],\n",
       "         [-0.0607, -1.5593, -0.3795,  ...,  0.4243, -0.2629, -2.5962],\n",
       "         ...,\n",
       "         [-0.1916, -2.1090, -0.2118,  ...,  0.0523, -0.1057, -1.2569],\n",
       "         [-0.1751, -2.1046, -0.2158,  ...,  0.0451, -0.1200, -1.2421],\n",
       "         [-0.1607, -2.1315, -0.2409,  ...,  0.0643, -0.1049, -1.2373]]],\n",
       "       grad_fn=<NativeLayerNormBackward0>), pooler_output=tensor([[ 2.4399, -0.6065,  0.1238,  ...,  0.5827, -1.8151, -0.8790],\n",
       "        [ 2.0636, -1.0961, -1.1886,  ...,  1.3235, -1.9595, -0.6022],\n",
       "        [ 1.4281, -2.0069,  0.1436,  ...,  0.5067, -0.6757, -0.7580],\n",
       "        [ 1.9897, -0.7072, -0.3973,  ..., -0.1963, -0.7579, -0.2627],\n",
       "        [-0.0761, -2.2293, -0.2794,  ...,  0.1800, -0.0108, -1.3161]],\n",
       "       grad_fn=<IndexBackward0>), hidden_states=None, attentions=None), vision_model_output=BaseModelOutputWithPooling(last_hidden_state=tensor([[[ 0.0431,  0.1501, -0.0281,  ...,  0.2843,  0.1739, -0.1156],\n",
       "         [ 0.0453,  0.1651, -0.9513,  ...,  0.2994,  0.4401,  0.3351],\n",
       "         [-0.6117,  0.0812, -0.1359,  ...,  0.2054,  0.7621,  0.5867],\n",
       "         ...,\n",
       "         [ 0.2488,  0.5939,  0.0409,  ...,  0.3570,  0.4249, -0.1869],\n",
       "         [ 0.1574,  0.9515, -0.3969,  ...,  0.7838,  0.3927, -0.1195],\n",
       "         [ 0.8089,  0.6573, -0.2992,  ...,  0.2770,  0.6903, -0.0528]]],\n",
       "       grad_fn=<AddBackward0>), pooler_output=tensor([[ 3.6876e-01,  2.5474e-01,  6.1117e-02,  4.4453e-01,  1.3498e+00,\n",
       "         -5.8634e-02,  1.1738e+00, -3.1466e-01,  6.1434e-01,  1.8850e-01,\n",
       "         -7.1046e-02,  2.4909e-01,  2.1352e-01, -1.0038e+00,  5.2575e-01,\n",
       "         -2.0727e-02,  8.3236e-01,  3.0740e-01,  1.1817e+00,  1.0194e+00,\n",
       "          1.8572e+00,  4.1484e-01,  6.6622e-01,  1.7440e+00,  6.1913e-01,\n",
       "          2.6965e-01,  5.5139e-01,  3.7193e-01,  7.5987e-01,  1.9833e+00,\n",
       "         -9.0595e+00, -1.3379e-01, -5.6480e-01, -2.0065e+00,  2.3457e-01,\n",
       "          2.6123e+00,  6.3655e-01, -5.8060e-02,  4.6433e-01, -7.2954e-01,\n",
       "         -1.1507e-01,  8.9655e-02, -6.3002e-01,  3.2768e-01, -2.5500e-01,\n",
       "         -4.6387e-01,  2.3012e-01,  3.4706e-01,  1.6116e-01,  6.9458e-01,\n",
       "          7.8674e-01,  1.2930e+00,  1.7324e+00,  3.5356e-01, -6.1860e-01,\n",
       "         -3.2987e-01,  7.0812e-01, -1.0158e+00,  3.2204e-01,  6.7052e-01,\n",
       "          4.3620e-01, -4.0782e-01,  1.2778e+00, -7.2809e-01, -4.1791e-01,\n",
       "         -1.7821e-02, -6.0440e-02,  3.9734e-01,  5.3132e-01, -1.2152e+00,\n",
       "         -2.2935e-01,  2.7208e-01,  5.4875e-01, -9.7788e-01,  7.2909e-01,\n",
       "         -3.9370e-01,  4.9250e-01, -1.4410e-01, -6.2987e-01,  4.1250e-01,\n",
       "         -7.9737e-01,  5.0471e-01,  2.3033e-01,  1.5571e-01,  6.5058e-01,\n",
       "          1.1770e-01,  5.3024e-01,  1.3130e+00,  3.1234e-01,  2.4975e+00,\n",
       "          1.1247e+00,  3.3321e-01,  1.7480e+00,  9.8305e-01, -1.0341e+00,\n",
       "          8.9807e-01, -7.2126e-01,  4.9319e-01,  5.7261e-01, -8.4586e-02,\n",
       "         -5.5383e-01, -3.0385e-01, -4.9414e-01, -6.7136e-01, -1.2846e+00,\n",
       "         -4.1581e-01,  4.9001e-01, -5.5588e-01,  1.4578e-01,  5.4073e-04,\n",
       "          2.3385e-01,  5.3766e-01,  3.2305e-01, -6.5275e-01, -2.8267e-01,\n",
       "         -1.2825e-01,  5.1292e-01, -2.6443e+00, -4.1453e-01,  3.0249e-01,\n",
       "         -1.6370e-01, -1.7335e-01, -4.1858e-01, -3.9724e-01, -7.0388e-01,\n",
       "          6.4647e-01,  1.1049e+00,  4.1158e-01, -1.2833e+00,  3.2701e-01,\n",
       "         -2.4563e-01, -7.2122e-01,  1.2100e+00,  9.6963e-01,  1.4085e+00,\n",
       "          3.0094e+00, -2.2261e-01,  5.9492e-01,  9.6946e-01, -1.2671e+00,\n",
       "          4.7579e-01, -4.3704e-01, -1.8051e-01, -1.5553e+00, -2.0550e-01,\n",
       "         -5.1013e-01,  4.2404e-01,  1.0649e+00,  1.3369e+00,  1.2014e+00,\n",
       "          7.0169e-02,  2.4067e-01, -5.9984e-01,  1.9232e-01, -9.0023e-01,\n",
       "          6.0477e-03,  1.6086e-01,  8.8745e-01, -8.8812e-01,  3.5236e+00,\n",
       "         -4.5315e-02,  1.4172e+00,  2.7087e-01, -1.2166e-01,  3.0675e-01,\n",
       "          7.5824e-01, -3.1009e-01, -1.8093e+00, -5.8399e-01,  6.9655e-01,\n",
       "          3.3678e-01,  5.3341e-01,  1.6998e-01, -1.1533e+00,  3.6904e-01,\n",
       "          1.6809e-01, -1.4190e-01,  5.5769e-01, -1.0726e+00,  3.4645e-01,\n",
       "         -1.3037e+00, -5.6781e-01,  1.8741e-01, -1.6068e-02, -5.1583e-01,\n",
       "          1.9224e+00, -9.7119e-01,  1.8034e-01,  1.7875e+00, -4.8019e-01,\n",
       "          2.6114e-01,  1.2492e-01,  7.9090e-01,  1.6962e+00, -3.8325e-01,\n",
       "         -8.4141e-01,  1.0419e+00, -6.0823e-01,  7.8943e-01,  1.5759e+00,\n",
       "         -1.0307e-01, -1.7352e+00, -1.6903e-01,  3.4771e-01, -1.0869e+00,\n",
       "         -5.1849e-01, -2.5387e-01,  1.3597e+00, -2.8146e-01, -1.1641e-01,\n",
       "         -7.9109e-01,  8.5985e-01,  1.3765e+00,  9.7572e-02, -2.7405e-01,\n",
       "          1.0410e+00,  2.1053e-01,  1.4510e+00,  3.4046e-01,  6.3297e-01,\n",
       "         -9.4544e-01, -3.8194e-01,  8.6003e-01,  6.0377e-01, -6.6139e-01,\n",
       "         -9.3394e-01,  2.1977e+00,  1.7675e-01,  4.9128e-01, -5.9386e-01,\n",
       "         -1.2778e+00,  6.4437e-01,  1.1478e+00, -2.1169e-01, -1.1690e-01,\n",
       "         -4.9727e-02,  3.9189e-01, -1.0240e+00, -3.5606e-01, -9.3863e-02,\n",
       "          7.4153e-01,  1.8104e-01,  1.2209e+00, -6.6133e-01,  4.2371e-01,\n",
       "          7.9091e-01,  7.4317e-01, -6.0472e-01, -1.2009e-01,  8.8254e-02,\n",
       "          5.9193e-01,  5.0520e-01,  1.5920e+00,  6.6147e-01,  3.1587e-01,\n",
       "          4.0307e-02,  4.2707e-01,  6.8131e-01,  1.0247e-01,  3.1978e-01,\n",
       "          7.0556e-02, -2.7189e-01,  6.2157e-01,  2.2164e-02, -1.8735e-01,\n",
       "         -2.2810e-01,  8.0935e-01,  5.4461e-01,  2.5955e+00,  3.7150e-01,\n",
       "         -9.2634e-02, -4.3217e-01, -8.0075e-02, -1.5798e+00, -1.2573e-01,\n",
       "          1.8040e-01,  6.3283e-01,  2.6553e-01, -5.7378e-01,  1.9036e-01,\n",
       "          2.2766e-01, -3.1327e-02,  1.1694e+00,  7.7474e-01,  8.6737e-02,\n",
       "         -2.6394e-01, -1.8639e-01, -4.1169e-01, -7.5554e-01,  3.0787e-01,\n",
       "          4.8657e-01, -1.5532e+00,  4.8224e-01,  1.7361e-01, -2.0575e+00,\n",
       "          3.8412e-01, -4.0585e-01, -8.3866e-01,  2.2034e-01,  1.4321e-02,\n",
       "          4.0994e-01,  2.6998e-01, -5.9115e-01, -3.0926e-01,  6.4957e-01,\n",
       "         -6.3135e-01,  5.8020e-01,  2.3838e-01,  8.4321e-01,  6.2160e-01,\n",
       "          6.5050e-01, -1.9922e-01, -7.8593e-02,  7.6512e-01,  2.1877e-01,\n",
       "          8.2799e-02, -5.6593e-01,  7.3869e-01,  1.0386e+00,  7.0777e-01,\n",
       "          6.1389e-01,  1.6638e+00, -6.6332e-02,  9.3876e-02, -1.0009e+00,\n",
       "          6.9070e-01,  1.3286e-01, -2.8864e-01, -1.1672e-01,  1.5725e+00,\n",
       "          1.6020e+00,  9.1865e-01,  1.1522e+00,  1.8896e-01, -5.1757e-01,\n",
       "          4.8102e-01, -7.5513e+00,  5.7871e-01, -6.9721e-01, -1.0496e+00,\n",
       "         -1.8018e-01, -2.2568e+00, -5.7163e-01,  7.2031e-01,  3.6897e+00,\n",
       "          2.5573e-01,  3.7377e-01, -2.4702e-01, -4.4901e-01,  3.3452e-01,\n",
       "         -2.7581e+00, -6.3946e-01, -1.3542e+00, -1.1528e-01,  7.7117e-01,\n",
       "         -4.9077e-01,  3.1087e-01, -4.5280e-01,  2.5079e-01,  8.6625e-01,\n",
       "         -2.2763e-01,  1.4809e-01,  1.6227e-03,  6.4992e-01,  1.6043e+00,\n",
       "         -7.5420e-01, -2.8183e-01,  2.1473e-01, -2.2296e-02, -5.4178e-01,\n",
       "         -7.2814e-01,  2.8581e-01,  4.3394e-01, -3.5487e-01, -2.2620e-01,\n",
       "         -8.6040e-02,  5.9256e-02,  4.8198e-02,  1.0266e+00,  1.9379e-01,\n",
       "         -3.3991e-01, -4.8780e-01, -1.3950e-01, -1.1003e+00,  6.0946e-01,\n",
       "          9.8506e-01, -6.5748e-01,  1.5923e-01,  5.7891e-01,  7.9097e-01,\n",
       "         -7.5789e-01,  5.0947e-01,  1.2080e+00,  7.6312e-01, -1.0748e-01,\n",
       "          1.1643e+00,  1.5150e+00,  6.4736e-01,  1.0058e+00, -2.4580e-01,\n",
       "          4.7530e-02,  7.7623e-01, -5.5493e-01, -3.4103e-01,  2.4261e-01,\n",
       "          2.9755e-01, -2.9795e-01,  3.5497e-01,  1.1874e+00, -9.3132e-02,\n",
       "          1.6385e+00,  1.2519e+00, -5.0989e-01, -1.0802e+00, -2.9385e-01,\n",
       "          1.1271e+00, -1.3016e+00, -3.0628e-01, -1.3582e+00,  6.2957e-01,\n",
       "         -7.3754e-02,  7.4623e-01, -6.6259e-02,  9.8315e-01,  1.3228e+00,\n",
       "          1.3722e-01, -1.6233e-01,  9.2133e-02,  1.0867e+00,  2.7953e-01,\n",
       "          4.1257e-01, -2.0078e-01,  5.0401e-01, -4.8535e-02, -1.2137e+00,\n",
       "         -3.7987e-01,  1.2541e+00, -6.4550e-02, -2.6259e-03,  1.2355e+00,\n",
       "          9.1573e-01, -4.5683e-02,  2.0598e-01,  3.0923e-01, -4.7901e-01,\n",
       "         -2.0802e-01,  9.8925e-01,  1.2334e+00,  1.7234e+00, -4.1548e-01,\n",
       "          5.9103e-01, -5.9888e-01,  9.6313e-01,  6.8875e-01, -2.3686e-01,\n",
       "          4.3027e-01,  1.1596e+00,  1.3976e+00,  2.4049e-01, -2.4432e-01,\n",
       "          1.3716e+00, -3.6907e-02,  7.2325e-01,  8.3238e-01,  1.3479e+00,\n",
       "         -7.7777e-01,  4.5806e-01,  8.4787e-01, -2.4749e-01, -2.6575e-01,\n",
       "          9.3225e-01, -9.9274e-01,  5.9102e-01,  1.1053e+00, -4.8963e-01,\n",
       "         -4.1621e-01, -4.3042e-01,  1.1788e-01,  2.1864e-01, -5.9098e-02,\n",
       "          3.4373e-01, -8.4491e-02,  1.4680e+00,  6.3408e-01,  2.8810e+00,\n",
       "          7.1113e-01, -7.5048e-01,  6.7793e-01,  1.0650e+00, -3.0263e+00,\n",
       "          5.9902e-01,  6.3455e-01, -1.3113e-01, -4.7692e-01, -1.5700e+00,\n",
       "          7.4638e-01, -1.9595e-01,  4.1384e-01,  5.7416e-01,  2.4391e+00,\n",
       "         -2.5094e-01,  8.3423e-01,  1.0657e+00, -7.5872e-01,  5.2247e-02,\n",
       "          9.7426e-01,  8.8476e-01,  2.2064e-01,  9.7888e-01,  5.4056e-02,\n",
       "          9.0183e-01,  5.2085e-01, -6.4556e-01,  1.6587e+00, -3.3009e-01,\n",
       "          7.0458e-01, -5.6375e-01, -3.4181e-02,  2.4606e-01, -5.7250e-02,\n",
       "         -9.2420e-01, -1.7961e-01, -5.2718e-01, -8.1474e-01, -9.7314e-01,\n",
       "          2.6443e-02,  2.0999e-01,  9.1017e-02,  1.3580e+00,  1.3991e+00,\n",
       "          9.5871e-02, -1.3049e-02,  1.4033e+00,  3.9448e-01,  1.9785e-01,\n",
       "         -1.2058e-01,  2.8610e-01,  1.6780e+00,  1.0628e+00,  5.5531e-02,\n",
       "          7.1380e-01,  5.7618e-01,  4.8370e-01, -5.0001e-01,  1.0116e+00,\n",
       "         -1.5372e+00,  1.3614e+00, -3.6318e-01, -6.2707e-01, -1.0864e-01,\n",
       "         -1.0516e+00,  4.9288e-01, -8.9568e-01,  1.2759e+00, -4.9118e-01,\n",
       "          4.6059e-01,  3.6462e-01,  3.0909e-01, -6.4777e-02,  7.4882e-02,\n",
       "          5.5795e-01, -3.1345e-01,  6.3220e-01, -4.6878e-01,  1.4692e+00,\n",
       "          1.1955e+00,  2.6764e-01, -8.5586e-02,  5.1954e-01,  4.9270e-01,\n",
       "          8.7732e-01, -7.1319e-01,  1.7430e+00,  2.3224e+00,  8.5053e-01,\n",
       "         -1.6962e-01, -7.8889e-01,  2.9532e+00, -3.0064e-01,  4.1752e-01,\n",
       "          1.7443e+00,  7.1074e-01,  2.4773e-01,  3.7396e-02,  4.7612e-01,\n",
       "          3.1955e-01,  3.0916e-01, -7.4683e-01,  7.1336e-02, -1.9419e-01,\n",
       "         -6.2618e-01, -3.2297e-01, -2.6132e-01,  1.2033e-01, -2.3385e-01,\n",
       "          2.9821e-01, -5.9405e-01,  1.9384e-01,  1.0335e+00,  3.5693e-01,\n",
       "          3.6956e-01,  2.1867e-01, -1.4439e-01,  6.9591e-01, -2.8418e-01,\n",
       "         -9.4046e-02, -2.7454e-01,  9.1645e-01, -6.7789e-01,  1.1640e-01,\n",
       "          9.5784e-01,  1.0840e+00,  1.1880e+00, -3.1336e-01,  6.0194e-01,\n",
       "          6.8035e-01,  1.4510e+00,  1.0981e+00, -8.4514e-02,  1.0095e+00,\n",
       "         -3.9163e-01,  6.7805e-01,  8.6870e-01,  2.2238e+00,  2.5645e+00,\n",
       "          4.0702e+00,  1.5359e+00,  8.1368e-03, -9.2496e-01,  1.2736e+00,\n",
       "          1.1425e+00,  2.6697e-01, -6.3198e-01, -4.5741e-01,  1.0935e+00,\n",
       "          7.3178e-01, -4.1415e-02,  5.7139e-01,  1.1418e+00,  5.8177e-01,\n",
       "          1.1001e+00, -5.8042e-01,  5.2106e-01, -6.4313e-01,  1.4678e-01,\n",
       "          2.9017e-01,  7.9962e-01, -1.7089e-01, -8.4598e-01, -8.1075e-01,\n",
       "         -6.1098e-01,  9.7638e-01,  2.3188e-01,  3.6791e-01,  1.6238e+00,\n",
       "         -4.0261e-01,  1.7706e-01,  4.6620e-01, -7.1256e-01,  1.0181e+00,\n",
       "          3.3980e-01, -1.0966e+00,  7.0484e-01,  7.3778e-01,  3.8488e-01,\n",
       "         -6.1552e-01,  3.0240e-01,  6.4786e-01,  8.0450e-01,  7.0378e-01,\n",
       "          5.2660e-01,  1.8006e-01,  6.0009e-01,  3.4463e+00, -4.8582e-01,\n",
       "          1.8802e+00,  6.0169e-01,  2.1066e-01, -1.4681e+00, -9.1318e-01,\n",
       "          1.0149e+00,  7.8824e-02, -6.9904e-01,  1.3347e+00,  7.6117e-01,\n",
       "          1.0081e+00,  1.0666e+00, -3.8252e-01,  1.5912e-01, -8.5502e-01,\n",
       "          1.7611e-01,  4.9162e-01,  1.4365e-02,  4.9599e-01,  6.0315e-01,\n",
       "          2.7033e-01,  4.1119e-01,  1.5345e-01,  1.2022e+00,  3.8535e-01,\n",
       "          1.9514e-01,  5.8202e-01, -1.6519e-01, -7.6442e-01,  3.9589e-01,\n",
       "         -8.7046e-01,  5.9105e-01, -5.0853e-01,  3.1005e-02,  3.8403e-01,\n",
       "          1.0314e-01,  1.2457e+00, -2.4774e-01,  3.5597e-01,  2.5243e-01,\n",
       "         -5.8100e-01, -2.6118e+00,  7.0387e-01, -2.2817e-01,  4.9058e-01,\n",
       "          9.2411e-02,  2.6840e-01,  5.7761e-02,  1.1183e+00, -5.9255e-02,\n",
       "         -4.9419e-01, -3.9617e-01,  4.1626e-02,  1.2244e+00, -2.2613e-01,\n",
       "         -6.3361e-01, -4.4124e-02, -5.1898e-01, -1.6214e-01, -2.6207e-01,\n",
       "          1.2239e+00,  4.7197e-01,  1.0617e+00,  2.0806e+00, -7.6200e-01,\n",
       "         -6.9385e-01, -6.5684e-02,  4.5187e-01,  6.0090e-01,  7.3049e-01,\n",
       "          1.2217e+00,  8.3495e-01, -1.2471e+00,  1.4236e+00, -7.3523e-01,\n",
       "         -4.4942e-01, -8.6372e-02, -2.3539e+00,  9.1103e-02, -1.1917e+00,\n",
       "          4.1452e-01,  1.2699e+00,  1.1744e-01,  1.0606e+00, -2.0898e+00,\n",
       "          2.3866e+00,  4.0380e-01,  3.7965e-01,  4.1918e-01,  4.6207e-02,\n",
       "          1.1413e+00,  9.1054e-01, -2.9659e-01]],\n",
       "       grad_fn=<NativeLayerNormBackward0>), hidden_states=None, attentions=None))"
      ]
     },
     "execution_count": 151,
     "metadata": {},
     "output_type": "execute_result"
    }
   ],
   "source": [
    "op"
   ]
  },
  {
   "cell_type": "code",
   "execution_count": 251,
   "id": "bc1aa8de-0c48-4fcd-a43c-ae1a82c7b443",
   "metadata": {},
   "outputs": [],
   "source": [
    "inp = processor(text=captions, images=img, padding=True, size={\"shortest_edge\": 125}, return_tensors=\"pt\").to(\"cpu\")\n",
    "tinp = processor(text=captions, padding=True, size={\"shortest_edge\": 125}, return_tensors=\"pt\").to(\"cpu\")\n",
    "vinp = processor(images=img, padding=True, size={\"shortest_edge\": 125}, return_tensors=\"pt\").to(\"cpu\")"
   ]
  },
  {
   "cell_type": "code",
   "execution_count": 222,
   "id": "48213139-9165-4d85-ad52-2608b7a3b8a5",
   "metadata": {},
   "outputs": [
    {
     "data": {
      "text/plain": [
       "odict_keys(['last_hidden_state', 'pooler_output'])"
      ]
     },
     "execution_count": 222,
     "metadata": {},
     "output_type": "execute_result"
    }
   ],
   "source": [
    "model.text_model(**tinp).keys()"
   ]
  },
  {
   "cell_type": "code",
   "execution_count": 230,
   "id": "bba4dcf4-253f-40e0-8ae5-46d55306c445",
   "metadata": {},
   "outputs": [
    {
     "data": {
      "text/plain": [
       "dict_keys(['pixel_values'])"
      ]
     },
     "execution_count": 230,
     "metadata": {},
     "output_type": "execute_result"
    }
   ],
   "source": [
    "vinp.keys()"
   ]
  },
  {
   "cell_type": "code",
   "execution_count": 260,
   "id": "db12cafa-e506-4160-b070-a3c51abd494e",
   "metadata": {
    "scrolled": true
   },
   "outputs": [],
   "source": [
    "imfeat = model(**inp).image_embeds.squeeze()"
   ]
  },
  {
   "cell_type": "code",
   "execution_count": 262,
   "id": "3215e1e8-25e8-4153-be5c-eed8d2629bb2",
   "metadata": {},
   "outputs": [],
   "source": [
    "get_imfeat = model.get_image_features(**vinp).squeeze()"
   ]
  },
  {
   "cell_type": "code",
   "execution_count": 269,
   "id": "f5d304c3-6ab5-405c-a9a8-a0088b27163e",
   "metadata": {},
   "outputs": [
    {
     "data": {
      "text/plain": [
       "torch.Size([5, 512])"
      ]
     },
     "execution_count": 269,
     "metadata": {},
     "output_type": "execute_result"
    }
   ],
   "source": [
    "model.get_text_features"
   ]
  },
  {
   "cell_type": "code",
   "execution_count": null,
   "id": "6bbb56fd-4b6d-408b-846b-cbeaa596774d",
   "metadata": {
    "scrolled": true
   },
   "outputs": [],
   "source": []
  },
  {
   "cell_type": "code",
   "execution_count": 233,
   "id": "4bf9bdb2-0b17-49d6-8478-ebd91e9b423b",
   "metadata": {},
   "outputs": [
    {
     "data": {
      "text/plain": [
       "torch.Size([5, 512])"
      ]
     },
     "execution_count": 233,
     "metadata": {},
     "output_type": "execute_result"
    }
   ],
   "source": [
    "model.get_text_features(**tinp).shape"
   ]
  },
  {
   "cell_type": "code",
   "execution_count": 239,
   "id": "2db0611b-b226-4c19-8422-90f71aa18a5f",
   "metadata": {},
   "outputs": [
    {
     "data": {
      "text/plain": [
       "tensor([[2, 0, 1]])"
      ]
     },
     "execution_count": 239,
     "metadata": {},
     "output_type": "execute_result"
    }
   ],
   "source": [
    "vals, indices = op.logits_per_image.topk(3)\n",
    "indices"
   ]
  },
  {
   "cell_type": "code",
   "execution_count": 242,
   "id": "baeefd9b-501f-4113-ae52-1f24ecc0982f",
   "metadata": {},
   "outputs": [
    {
     "name": "stdout",
     "output_type": "stream",
     "text": [
      "2\n",
      "0\n",
      "1\n"
     ]
    }
   ],
   "source": [
    "for i in indices[0].tolist():\n",
    "    print(i)"
   ]
  },
  {
   "cell_type": "code",
   "execution_count": 212,
   "id": "4438d66a-388a-441d-ac96-239229877e80",
   "metadata": {},
   "outputs": [
    {
     "data": {
      "text/plain": [
       "torch.Size([1, 768])"
      ]
     },
     "execution_count": 212,
     "metadata": {},
     "output_type": "execute_result"
    }
   ],
   "source": [
    "op.vision_model_output.pooler_output.shape"
   ]
  },
  {
   "cell_type": "code",
   "execution_count": 215,
   "id": "adc9863a-bbba-4d31-8be2-7a9143ca55d0",
   "metadata": {},
   "outputs": [
    {
     "data": {
      "text/plain": [
       "torch.Size([1, 49, 768])"
      ]
     },
     "execution_count": 215,
     "metadata": {},
     "output_type": "execute_result"
    }
   ],
   "source": [
    "op.vision_model_output.last_hidden_state[:, 1:, :].shape"
   ]
  },
  {
   "cell_type": "code",
   "execution_count": 203,
   "id": "96d89521-695c-4a5d-b3c7-64b1b92a6608",
   "metadata": {},
   "outputs": [
    {
     "data": {
      "text/plain": [
       "transformers.tokenization_utils_base.BatchEncoding"
      ]
     },
     "execution_count": 203,
     "metadata": {},
     "output_type": "execute_result"
    }
   ],
   "source": [
    "type(inp)"
   ]
  },
  {
   "cell_type": "code",
   "execution_count": 202,
   "id": "7e5ebc37-2f4e-4ffb-9987-ed7c5b07ff1b",
   "metadata": {},
   "outputs": [
    {
     "data": {
      "text/plain": [
       "transformers.models.clip.modeling_clip.CLIPOutput"
      ]
     },
     "execution_count": 202,
     "metadata": {},
     "output_type": "execute_result"
    }
   ],
   "source": [
    "op = model(**inp)\n",
    "type(op)"
   ]
  },
  {
   "cell_type": "code",
   "execution_count": null,
   "id": "307bcdde-03d1-4a75-b1ed-31e786e9527d",
   "metadata": {},
   "outputs": [],
   "source": [
    "processor.tokenizer()"
   ]
  },
  {
   "cell_type": "code",
   "execution_count": 129,
   "id": "6eb33534-ee1e-41e7-933d-c12550a757ad",
   "metadata": {},
   "outputs": [
    {
     "name": "stderr",
     "output_type": "stream",
     "text": [
      "Clipping input data to the valid range for imshow with RGB data ([0..1] for floats or [0..255] for integers). Got range [-1.7922626..2.145897].\n"
     ]
    },
    {
     "name": "stdout",
     "output_type": "stream",
     "text": [
      "(3, 224, 224)\n"
     ]
    },
    {
     "data": {
      "text/plain": [
       "<matplotlib.image.AxesImage at 0x79aa06fede50>"
      ]
     },
     "execution_count": 129,
     "metadata": {},
     "output_type": "execute_result"
    },
    {
     "data": {
      "image/png": "[encoded data removed]",
      "text/plain": [
       "<Figure size 640x480 with 1 Axes>"
      ]
     },
     "metadata": {},
     "output_type": "display_data"
    }
   ],
   "source": [
    "img_inputs = processor(images=img, pading=True, size={\"shortest_edge\": 150})\n",
    "img_proc = img_inputs[\"pixel_values\"][0]\n",
    "print(img_proc.shape)\n",
    "plt.imshow(img_inputs[\"pixel_values\"][0].transpose(-2, -1, 0))"
   ]
  },
  {
   "cell_type": "code",
   "execution_count": 10,
   "id": "0f815c9b-530e-4ca3-affb-687386a4c755",
   "metadata": {},
   "outputs": [],
   "source": [
    "img = fli_ds[\"test\"][0][\"image\"]\n",
    "cap = fli_ds[\"test\"][0][\"caption\"]"
   ]
  },
  {
   "cell_type": "code",
   "execution_count": 95,
   "id": "5f32c469-40d2-4026-8764-f213203cb96d",
   "metadata": {},
   "outputs": [],
   "source": [
    "inputs = processor(text=cap, images=img, return_tensors=\"pt\", padding=True)"
   ]
  },
  {
   "cell_type": "code",
   "execution_count": 96,
   "id": "b0c5b782-0a9f-4bc4-9e9f-c7d4e85a10fd",
   "metadata": {},
   "outputs": [],
   "source": [
    "output = model(**inputs)\n"
   ]
  },
  {
   "cell_type": "code",
   "execution_count": 99,
   "id": "58477a50-82eb-4df7-a813-05c872ebc16d",
   "metadata": {},
   "outputs": [
    {
     "data": {
      "text/plain": [
       "odict_keys(['logits_per_image', 'logits_per_text', 'text_embeds', 'image_embeds', 'text_model_output', 'vision_model_output'])"
      ]
     },
     "execution_count": 99,
     "metadata": {},
     "output_type": "execute_result"
    }
   ],
   "source": [
    "output.keys()"
   ]
  },
  {
   "cell_type": "code",
   "execution_count": 101,
   "id": "7bf620d8-38d4-4b96-9cc0-2785e69ecdfe",
   "metadata": {},
   "outputs": [
    {
     "data": {
      "text/plain": [
       "torch.Size([1, 5])"
      ]
     },
     "execution_count": 101,
     "metadata": {},
     "output_type": "execute_result"
    }
   ],
   "source": [
    "output[\"logits_per_image\"].shape"
   ]
  },
  {
   "cell_type": "code",
   "execution_count": 102,
   "id": "0b13fe0e-6c9c-4c37-8105-ec00864c094d",
   "metadata": {},
   "outputs": [
    {
     "data": {
      "text/plain": [
       "torch.Size([5, 1])"
      ]
     },
     "execution_count": 102,
     "metadata": {},
     "output_type": "execute_result"
    }
   ],
   "source": [
    "output[\"logits_per_text\"].shape"
   ]
  },
  {
   "cell_type": "code",
   "execution_count": 111,
   "id": "7b7ac14d-2391-4e2d-8a4a-7acc526aa489",
   "metadata": {},
   "outputs": [
    {
     "data": {
      "text/plain": [
       "tensor([[2, 0]])"
      ]
     },
     "execution_count": 111,
     "metadata": {},
     "output_type": "execute_result"
    }
   ],
   "source": [
    "vals, idxs = output[\"logits_per_image\"].topk(2)\n",
    "idxs"
   ]
  },
  {
   "cell_type": "code",
   "execution_count": 88,
   "id": "3b92dbbd-d1e3-4ff5-810e-4852347f8a8d",
   "metadata": {},
   "outputs": [],
   "source": [
    "output = model.get_image_features(**inputs)"
   ]
  },
  {
   "cell_type": "code",
   "execution_count": 93,
   "id": "ede62709-99b5-414c-9a8b-1549827f8d52",
   "metadata": {},
   "outputs": [],
   "source": [
    "top_k = 1"
   ]
  },
  {
   "cell_type": "code",
   "execution_count": null,
   "id": "f24b25ce-a9aa-4517-8cc4-6d5b5b9d4d1a",
   "metadata": {},
   "outputs": [],
   "source": [
    "for row in fli_ds[\"test\"][:100]:\n",
    "    img = row[\"image\"]\n",
    "    captions = row[\"caption\"]\n",
    "    split = row[\"split\"]\n",
    "\n",
    "    \n",
    "\n",
    "    \n",
    "\n",
    "    "
   ]
  },
  {
   "cell_type": "code",
   "execution_count": null,
   "id": "794ccf63-2c33-491e-9b4d-f86965216f82",
   "metadata": {},
   "outputs": [],
   "source": []
  },
  {
   "cell_type": "code",
   "execution_count": null,
   "id": "ce46e229-8d0c-4804-9d86-c62c4877be4d",
   "metadata": {},
   "outputs": [],
   "source": []
  },
  {
   "cell_type": "code",
   "execution_count": 91,
   "id": "0c370172-8dc9-476f-a651-410a2afd3a3d",
   "metadata": {},
   "outputs": [
    {
     "data": {
      "text/plain": [
       "{'pixel_values': tensor([[[[-1.5441, -1.4565, -1.4857,  ..., -1.3981, -1.3689, -1.1207],\n",
       "          [-1.5733, -1.4565, -1.5587,  ..., -1.3981, -1.3251, -0.9602],\n",
       "          [-1.5587, -1.5441, -1.5003,  ..., -1.3105, -1.3105, -1.5733],\n",
       "          ...,\n",
       "          [-0.8580, -0.9456, -0.3470,  ...,  1.6968,  1.7260,  1.7114],\n",
       "          [-0.1134,  0.0909,  0.6749,  ...,  1.7260,  1.6092,  1.7406],\n",
       "          [-0.3470, -0.0405,  0.3537,  ...,  1.6092,  1.4924,  1.5216]],\n",
       "\n",
       "         [[-1.1068, -1.0617, -1.1668,  ..., -0.4914, -0.4764, -0.4014],\n",
       "          [-1.2118, -1.0617, -1.1968,  ..., -0.5215, -0.3264, -0.0712],\n",
       "          [-1.1968, -1.1218, -1.1818,  ..., -0.4614, -0.5065, -0.8516],\n",
       "          ...,\n",
       "          [ 0.0488,  0.0638,  0.4390,  ...,  1.5796,  1.6997,  1.7147],\n",
       "          [ 0.7542,  0.5891,  1.1444,  ...,  1.5646,  1.5046,  1.7747],\n",
       "          [ 0.4390,  0.5441,  0.8743,  ...,  1.4596,  1.4896,  1.4295]],\n",
       "\n",
       "         [[-1.1816, -1.0536, -1.1389,  ..., -1.3665, -1.3949, -1.1532],\n",
       "          [-1.3096, -1.0821, -1.0963,  ..., -1.3380, -1.3522, -1.0110],\n",
       "          [-1.0821, -1.1674, -1.1247,  ..., -1.1958, -1.2669, -1.3949],\n",
       "          ...,\n",
       "          [-0.9256, -0.8830, -0.3142,  ...,  0.8092,  0.9088,  1.1789],\n",
       "          [ 0.0129, -0.0440,  0.5817,  ...,  0.8661,  0.7666,  1.3354],\n",
       "          [-0.4848, -0.0582, -0.2715,  ...,  0.6955,  0.7523,  0.5675]]]])}"
      ]
     },
     "execution_count": 91,
     "metadata": {},
     "output_type": "execute_result"
    }
   ],
   "source": []
  },
  {
   "cell_type": "code",
   "execution_count": 89,
   "id": "4057ea1d-622d-404e-95c0-14c7d3be398e",
   "metadata": {},
   "outputs": [
    {
     "ename": "KeyError",
     "evalue": "'input_ids'",
     "output_type": "error",
     "traceback": [
      "\u001b[0;31m---------------------------------------------------------------------------\u001b[0m",
      "\u001b[0;31mKeyError\u001b[0m                                  Traceback (most recent call last)",
      "Cell \u001b[0;32mIn[89], line 1\u001b[0m\n\u001b[0;32m----> 1\u001b[0m \u001b[43minputs\u001b[49m\u001b[43m[\u001b[49m\u001b[38;5;124;43m\"\u001b[39;49m\u001b[38;5;124;43minput_ids\u001b[39;49m\u001b[38;5;124;43m\"\u001b[39;49m\u001b[43m]\u001b[49m\u001b[38;5;241m.\u001b[39mshape\n",
      "File \u001b[0;32m~/miniconda3/envs/mlx2/lib/python3.12/site-packages/transformers/tokenization_utils_base.py:271\u001b[0m, in \u001b[0;36mBatchEncoding.__getitem__\u001b[0;34m(self, item)\u001b[0m\n\u001b[1;32m    261\u001b[0m \u001b[38;5;250m\u001b[39m\u001b[38;5;124;03m\"\"\"\u001b[39;00m\n\u001b[1;32m    262\u001b[0m \u001b[38;5;124;03mIf the key is a string, returns the value of the dict associated to `key` ('input_ids', 'attention_mask',\u001b[39;00m\n\u001b[1;32m    263\u001b[0m \u001b[38;5;124;03metc.).\u001b[39;00m\n\u001b[0;32m   (...)\u001b[0m\n\u001b[1;32m    268\u001b[0m \u001b[38;5;124;03mwith the constraint of slice.\u001b[39;00m\n\u001b[1;32m    269\u001b[0m \u001b[38;5;124;03m\"\"\"\u001b[39;00m\n\u001b[1;32m    270\u001b[0m \u001b[38;5;28;01mif\u001b[39;00m \u001b[38;5;28misinstance\u001b[39m(item, \u001b[38;5;28mstr\u001b[39m):\n\u001b[0;32m--> 271\u001b[0m     \u001b[38;5;28;01mreturn\u001b[39;00m \u001b[38;5;28;43mself\u001b[39;49m\u001b[38;5;241;43m.\u001b[39;49m\u001b[43mdata\u001b[49m\u001b[43m[\u001b[49m\u001b[43mitem\u001b[49m\u001b[43m]\u001b[49m\n\u001b[1;32m    272\u001b[0m \u001b[38;5;28;01melif\u001b[39;00m \u001b[38;5;28mself\u001b[39m\u001b[38;5;241m.\u001b[39m_encodings \u001b[38;5;129;01mis\u001b[39;00m \u001b[38;5;129;01mnot\u001b[39;00m \u001b[38;5;28;01mNone\u001b[39;00m:\n\u001b[1;32m    273\u001b[0m     \u001b[38;5;28;01mreturn\u001b[39;00m \u001b[38;5;28mself\u001b[39m\u001b[38;5;241m.\u001b[39m_encodings[item]\n",
      "\u001b[0;31mKeyError\u001b[0m: 'input_ids'"
     ]
    }
   ],
   "source": [
    "inputs[\"input_ids\"].shape"
   ]
  },
  {
   "cell_type": "code",
   "execution_count": 79,
   "id": "e6527541-c2e2-4e59-a25a-4df4ca65b22b",
   "metadata": {},
   "outputs": [
    {
     "data": {
      "text/plain": [
       "torch.Size([5, 19])"
      ]
     },
     "execution_count": 79,
     "metadata": {},
     "output_type": "execute_result"
    }
   ],
   "source": [
    "inputs[\"attention_mask\"].shape"
   ]
  },
  {
   "cell_type": "code",
   "execution_count": 92,
   "id": "314e75b8-8bf2-4eaf-b3de-72e7c236c85d",
   "metadata": {},
   "outputs": [
    {
     "data": {
      "text/plain": [
       "torch.Size([1, 3, 224, 224])"
      ]
     },
     "execution_count": 92,
     "metadata": {},
     "output_type": "execute_result"
    }
   ],
   "source": [
    "inputs[\"pixel_values\"].shape"
   ]
  },
  {
   "cell_type": "code",
   "execution_count": 77,
   "id": "f45bbd69-0a39-4ffc-9468-765d21eb7e92",
   "metadata": {},
   "outputs": [
    {
     "data": {
      "text/plain": [
       "torch.Size([1, 3, 224, 224])"
      ]
     },
     "execution_count": 77,
     "metadata": {},
     "output_type": "execute_result"
    }
   ],
   "source": [
    "inputs[\"pixel_values\"].shape"
   ]
  },
  {
   "cell_type": "code",
   "execution_count": 84,
   "id": "dcfecb1c-055b-445b-91e0-2b771047800b",
   "metadata": {
    "collapsed": true,
    "jupyter": {
     "outputs_hidden": true
    }
   },
   "outputs": [
    {
     "data": {
      "text/plain": [
       "CLIPOutput(loss=None, logits_per_image=tensor([[32.6571, 31.0840, 32.8633, 29.8758, 24.8078]], grad_fn=<TBackward0>), logits_per_text=tensor([[32.6571],\n",
       "        [31.0840],\n",
       "        [32.8633],\n",
       "        [29.8758],\n",
       "        [24.8078]], grad_fn=<MulBackward0>), text_embeds=tensor([[ 0.0236,  0.0257, -0.0517,  ...,  0.0277,  0.0091,  0.0277],\n",
       "        [-0.0146,  0.0540,  0.0041,  ...,  0.0012, -0.0394, -0.0297],\n",
       "        [ 0.0132,  0.0682, -0.0143,  ...,  0.0200, -0.0219,  0.0311],\n",
       "        [-0.0003,  0.0705, -0.0038,  ..., -0.0250, -0.0333,  0.0180],\n",
       "        [ 0.0135,  0.0129, -0.0342,  ..., -0.0290, -0.0145, -0.0069]],\n",
       "       grad_fn=<DivBackward0>), image_embeds=tensor([[-6.8686e-03,  3.2907e-02, -8.7895e-03, -4.2854e-02, -1.1036e-03,\n",
       "          1.8647e-03,  4.9961e-02,  2.4585e-02,  1.2732e-03, -7.4499e-03,\n",
       "          2.2091e-02, -2.3574e-02, -1.0610e-01,  1.4872e-02, -9.3611e-05,\n",
       "         -5.5595e-03, -1.3384e-01,  1.7230e-02,  3.5680e-03,  1.6102e-02,\n",
       "          6.6082e-02, -1.0151e-02, -9.5518e-03, -1.7842e-02,  3.8331e-02,\n",
       "         -2.4819e-02,  9.8792e-04,  1.1611e-02,  2.1788e-02, -2.9013e-02,\n",
       "         -3.9133e-02,  9.2867e-03,  2.0069e-02, -1.0195e-02,  6.1951e-02,\n",
       "          2.3618e-03, -1.5591e-02,  2.1093e-02,  5.3676e-02, -2.7248e-03,\n",
       "         -5.1004e-03,  1.5143e-02, -1.8173e-02, -3.7780e-02,  1.9960e-02,\n",
       "          2.0574e-03,  3.9856e-02,  2.7158e-02, -4.0736e-02,  5.1832e-02,\n",
       "         -1.3035e-03,  4.3814e-02,  5.2183e-03, -1.0502e-02,  8.3331e-04,\n",
       "          9.3244e-04, -1.4028e-02, -2.2531e-03, -5.5581e-02, -1.3698e-02,\n",
       "          1.8536e-02, -1.6067e-02,  1.2056e-02,  1.7818e-02,  9.4877e-03,\n",
       "         -4.0278e-02,  5.1573e-03,  1.4854e-01, -1.0462e-02, -3.1655e-02,\n",
       "          4.6409e-03, -3.1742e-03, -3.0699e-02, -6.6310e-03, -1.3997e-02,\n",
       "          1.2819e-03, -3.6544e-02, -2.3370e-03, -3.5116e-03, -3.3682e-02,\n",
       "          4.8133e-02,  1.4662e-02,  7.4918e-03,  2.1253e-02, -3.8613e-02,\n",
       "          5.1559e-02,  6.9388e-02,  5.7030e-03, -3.5487e-02, -2.9940e-02,\n",
       "          1.0914e-02, -1.0775e-02, -6.9011e-01, -1.2916e-02, -2.7629e-02,\n",
       "         -2.8112e-03,  2.3851e-02,  1.6513e-02, -9.0531e-02, -2.3899e-02,\n",
       "          6.5866e-03,  1.8405e-02,  3.6784e-03,  3.2299e-03,  5.0611e-02,\n",
       "          2.4289e-02, -6.2781e-02, -3.0535e-02,  1.1750e-02, -3.2332e-02,\n",
       "          2.2318e-02, -7.6018e-02, -5.6484e-02, -1.3907e-02, -1.7981e-02,\n",
       "          2.1711e-02, -1.0321e-02,  3.8088e-03,  1.7016e-02, -1.4361e-02,\n",
       "          3.7927e-03,  2.8998e-02, -9.7355e-03, -2.0278e-02, -1.7634e-02,\n",
       "          1.4440e-02,  2.9288e-02,  2.0257e-02, -1.3808e-02,  2.3055e-02,\n",
       "          5.6501e-02,  3.6932e-02, -5.5411e-02,  9.7463e-02, -5.2281e-03,\n",
       "          3.1924e-02, -2.3538e-02, -2.5411e-02, -2.7739e-02, -1.7710e-02,\n",
       "          2.1622e-02, -1.8270e-02, -1.1075e-02,  6.3122e-03, -1.9227e-02,\n",
       "          6.8378e-03, -1.0218e-02, -2.0999e-02, -5.8783e-02,  2.3384e-02,\n",
       "          4.6589e-02, -3.0304e-04,  6.4207e-02, -1.1100e-02, -5.3691e-03,\n",
       "         -2.8716e-04, -1.1187e-02, -8.1250e-03,  1.7543e-02, -7.8823e-03,\n",
       "         -1.7954e-02, -5.0344e-02, -4.1769e-02, -7.6560e-03,  6.0841e-02,\n",
       "         -4.5803e-04,  3.5541e-02,  3.2145e-02,  2.9797e-02, -1.6453e-02,\n",
       "          8.9511e-03,  1.8269e-02, -5.4261e-03, -2.7849e-02, -9.4728e-03,\n",
       "         -6.8617e-03,  1.3005e-01,  3.3788e-03, -4.6883e-02, -9.3778e-03,\n",
       "         -3.0344e-02, -2.3199e-02, -1.4825e-03, -2.6948e-02,  3.0332e-02,\n",
       "         -1.7769e-02,  4.4491e-02,  1.3462e-03,  1.0490e-02,  1.2438e-02,\n",
       "         -1.6326e-02, -2.1226e-02,  3.4415e-02,  1.2535e-02, -9.6179e-02,\n",
       "          4.2619e-03, -1.1124e-02,  3.8619e-02,  4.7476e-02,  1.7921e-02,\n",
       "          1.2998e-03, -7.6282e-04,  2.3660e-03, -1.7301e-02,  6.1515e-03,\n",
       "          2.3728e-02, -4.2820e-02,  1.5884e-02,  2.9393e-02,  4.0227e-02,\n",
       "         -6.6906e-02,  6.1369e-03,  7.9703e-03, -3.2114e-02,  6.0478e-03,\n",
       "          1.8719e-03, -8.0006e-03, -4.1228e-02,  8.5073e-02, -3.3067e-02,\n",
       "         -5.2388e-02, -2.8059e-03, -2.9378e-02, -7.1040e-02,  2.6704e-03,\n",
       "         -2.8144e-03, -5.6239e-02, -2.2501e-02, -5.2267e-03, -3.0669e-02,\n",
       "          7.7558e-03, -3.0307e-02, -2.0611e-02, -9.8684e-04, -7.1071e-03,\n",
       "          6.5242e-02, -3.1796e-02, -2.2628e-02,  2.8620e-03,  1.8638e-02,\n",
       "          1.2750e-02, -1.1061e-03, -7.9324e-03, -1.1275e-02, -3.2116e-02,\n",
       "         -2.3590e-02, -1.7896e-02,  4.3366e-02, -2.8503e-02, -6.4252e-04,\n",
       "         -3.7283e-02,  7.6253e-03,  2.7717e-02,  2.2009e-02,  4.3569e-02,\n",
       "          1.7036e-02, -2.6322e-02,  1.3402e-03,  4.1595e-02,  1.6711e-02,\n",
       "         -5.7359e-02,  1.1772e-02,  2.5131e-04, -1.1742e-01, -5.2939e-03,\n",
       "         -1.2034e-02,  1.8718e-02,  1.3797e-02,  2.4382e-02, -2.2289e-02,\n",
       "          1.4026e-02,  7.9046e-03,  2.9409e-02,  1.4470e-02,  1.6905e-02,\n",
       "         -1.3185e-02, -2.1475e-02, -4.0494e-02, -2.1648e-02, -2.2569e-02,\n",
       "          5.5222e-03, -1.1146e-02, -1.1082e-01,  3.3728e-02, -2.6695e-02,\n",
       "          1.5837e-02,  2.0662e-02,  1.2830e-02, -8.8923e-03,  3.9514e-04,\n",
       "         -1.7465e-02,  1.1905e-02, -8.8683e-03, -4.6267e-03,  1.1495e-03,\n",
       "         -1.0430e-02,  1.7085e-02, -1.1631e-02,  6.8048e-03, -3.9008e-02,\n",
       "         -6.1089e-03,  7.1075e-03, -4.4349e-03, -5.0919e-03,  2.4453e-02,\n",
       "         -2.3723e-02,  2.2080e-02,  2.9587e-02,  4.8080e-02, -8.8978e-03,\n",
       "         -2.8441e-03, -2.7840e-02,  9.7327e-02,  5.2314e-02, -3.3099e-04,\n",
       "          2.2236e-02, -2.1305e-03,  6.9588e-02, -2.0242e-02,  3.9125e-02,\n",
       "          4.3026e-02,  8.2634e-03, -1.8861e-02, -2.4684e-02,  1.0334e-04,\n",
       "          3.6071e-02, -2.3187e-02, -6.8153e-03, -1.6126e-02,  2.9203e-02,\n",
       "         -3.0104e-02,  7.3549e-03, -2.9599e-03, -3.9686e-02, -3.0705e-02,\n",
       "          1.0747e-02, -4.0052e-03,  3.2683e-03, -3.7886e-03,  2.0107e-02,\n",
       "          1.1983e-02, -1.6336e-02,  1.1771e-02, -2.5974e-02,  5.8925e-03,\n",
       "         -2.3811e-02, -1.3110e-02,  1.0568e-02, -2.5269e-02,  1.4048e-03,\n",
       "         -9.4326e-04, -2.2371e-02,  3.7081e-02, -4.9697e-02, -4.1357e-02,\n",
       "          3.8266e-02,  9.2383e-03,  1.9919e-02,  1.0390e-02, -9.1099e-03,\n",
       "         -6.5099e-02, -2.6842e-02,  1.2743e-02,  3.3614e-02,  8.5558e-02,\n",
       "         -2.3887e-02, -4.8904e-03, -1.6821e-02,  8.8628e-03,  8.3078e-03,\n",
       "         -2.3824e-02,  4.0697e-02, -1.2095e-02,  1.7690e-03,  2.2192e-02,\n",
       "          1.4395e-03,  1.2691e-01, -1.8921e-02,  6.3971e-03,  2.4639e-02,\n",
       "         -7.5011e-03, -3.3852e-02, -3.9845e-02, -4.9969e-02, -2.2886e-02,\n",
       "         -3.7510e-02,  4.7021e-02, -7.9630e-04, -1.3482e-02,  1.3715e-02,\n",
       "         -4.8372e-02, -2.4313e-02,  4.9116e-02, -3.8993e-02,  9.5885e-03,\n",
       "          1.6161e-02, -1.4574e-02,  2.6483e-02, -5.5998e-03,  2.5159e-02,\n",
       "         -1.2860e-02,  3.6139e-03,  2.6049e-02,  2.3720e-03,  7.4768e-03,\n",
       "         -1.1340e-02, -6.0870e-03,  1.8422e-02,  2.6445e-02,  6.6594e-03,\n",
       "         -5.9479e-02,  3.6789e-02, -9.6378e-04,  3.1439e-02,  2.6811e-02,\n",
       "          7.8980e-03, -1.4290e-02,  1.0118e-02, -2.8242e-02, -8.6098e-03,\n",
       "          1.1916e-02, -2.8636e-02,  5.3838e-02, -6.2518e-02, -2.1886e-02,\n",
       "          6.6120e-03, -2.4832e-02,  6.6414e-03,  5.0236e-02,  1.4994e-02,\n",
       "          2.0352e-02,  3.2438e-02,  4.6724e-02, -4.5207e-02,  1.0839e-02,\n",
       "          6.5319e-04, -4.5124e-02,  1.7212e-02,  2.1408e-02, -2.7176e-02,\n",
       "         -1.3795e-02, -3.1844e-02, -8.2497e-03, -2.1199e-02, -3.1507e-02,\n",
       "         -1.6949e-02,  1.4654e-02, -2.1449e-02, -1.9505e-02,  2.4352e-02,\n",
       "         -8.2647e-02, -9.9196e-03, -9.7991e-03, -1.3302e-02, -1.3894e-03,\n",
       "         -6.8247e-03, -4.9602e-03, -2.3856e-02,  2.9460e-02,  1.4794e-02,\n",
       "          1.4660e-02, -3.1372e-02,  2.0904e-02, -1.9971e-02,  3.3309e-02,\n",
       "         -1.8348e-02,  1.6810e-02,  6.9725e-03, -5.3103e-02,  3.9679e-03,\n",
       "          6.4343e-03, -3.1229e-02,  9.8190e-03, -6.5850e-02, -1.3574e-02,\n",
       "         -3.4207e-02, -6.4682e-03, -1.7563e-02, -3.4383e-03, -2.5762e-02,\n",
       "         -2.2081e-02,  9.4925e-04, -1.2772e-02, -8.4576e-03,  4.7876e-03,\n",
       "          1.0801e-02,  2.4938e-02,  1.6991e-02, -6.0182e-03, -1.7047e-02,\n",
       "         -1.9389e-02,  1.9079e-02, -3.2713e-03, -6.2652e-02, -1.7765e-02,\n",
       "          1.3529e-02,  3.1091e-02,  4.7000e-02, -3.3714e-02,  2.1937e-02,\n",
       "         -4.4054e-02,  1.2492e-02,  9.6183e-03, -5.1261e-03,  1.0034e-01,\n",
       "         -5.3622e-02, -2.6059e-02,  1.2839e-03, -3.3310e-02,  6.1726e-02,\n",
       "          2.4731e-03, -3.4185e-03]], grad_fn=<DivBackward0>), text_model_output=BaseModelOutputWithPooling(last_hidden_state=tensor([[[ 0.3393,  0.1165,  0.1020,  ...,  0.2468,  0.5906,  0.1013],\n",
       "         [ 1.5388, -0.9269,  0.0027,  ...,  0.6502,  1.2769, -1.0751],\n",
       "         [ 0.0807, -2.0886, -0.8193,  ..., -0.1717, -0.3324, -0.5988],\n",
       "         ...,\n",
       "         [ 0.6834, -0.0240,  0.0809,  ...,  0.5255, -0.1306,  0.5400],\n",
       "         [ 2.3364, -0.1803, -0.0285,  ...,  2.0876, -1.3056, -0.1391],\n",
       "         [ 2.4399, -0.6065,  0.1238,  ...,  0.5827, -1.8151, -0.8790]],\n",
       "\n",
       "        [[ 0.3393,  0.1165,  0.1020,  ...,  0.2468,  0.5906,  0.1013],\n",
       "         [ 1.5388, -0.9269,  0.0027,  ...,  0.6502,  1.2769, -1.0751],\n",
       "         [ 0.0807, -2.0886, -0.8193,  ..., -0.1717, -0.3324, -0.5988],\n",
       "         ...,\n",
       "         [ 2.1649, -1.1074, -1.2001,  ...,  1.4517, -1.9803, -0.4322],\n",
       "         [ 2.3562, -1.2328, -1.4603,  ...,  0.5794, -2.0695,  0.7114],\n",
       "         [ 2.2428, -1.2647, -1.2479,  ...,  0.3797, -1.7414,  0.9182]],\n",
       "\n",
       "        [[ 0.3393,  0.1165,  0.1020,  ...,  0.2468,  0.5906,  0.1013],\n",
       "         [ 1.5388, -0.9269,  0.0027,  ...,  0.6502,  1.2769, -1.0751],\n",
       "         [ 0.1199, -0.9470,  0.2924,  ...,  0.2654, -0.1267, -1.1674],\n",
       "         ...,\n",
       "         [ 1.4982, -2.0362,  0.1518,  ...,  0.4232, -0.8239, -0.4923],\n",
       "         [ 1.2943, -2.3016, -0.0744,  ..., -0.2246, -0.9318,  0.3818],\n",
       "         [ 1.1705, -2.0858, -0.0165,  ..., -0.1423, -0.7387,  0.3143]],\n",
       "\n",
       "        [[ 0.3393,  0.1165,  0.1020,  ...,  0.2468,  0.5906,  0.1013],\n",
       "         [ 1.9753, -0.5844,  0.3685,  ...,  1.1658,  0.8050, -0.9801],\n",
       "         [ 1.1319, -0.2811, -0.4251,  ...,  1.1118, -0.7140, -1.5363],\n",
       "         ...,\n",
       "         [ 1.8155, -1.4115, -1.1671,  ..., -0.9048, -1.0909,  0.7890],\n",
       "         [ 1.6550, -1.0845, -0.7436,  ..., -0.7517, -0.7116,  0.5027],\n",
       "         [ 1.5570, -0.9559, -0.6233,  ..., -0.6510, -0.5640,  0.4120]],\n",
       "\n",
       "        [[ 0.3393,  0.1165,  0.1020,  ...,  0.2468,  0.5906,  0.1013],\n",
       "         [ 1.5388, -0.9269,  0.0027,  ...,  0.6502,  1.2769, -1.0751],\n",
       "         [-0.0607, -1.5593, -0.3795,  ...,  0.4243, -0.2629, -2.5962],\n",
       "         ...,\n",
       "         [-0.1916, -2.1090, -0.2118,  ...,  0.0523, -0.1057, -1.2569],\n",
       "         [-0.1751, -2.1046, -0.2158,  ...,  0.0451, -0.1200, -1.2421],\n",
       "         [-0.1607, -2.1315, -0.2409,  ...,  0.0643, -0.1049, -1.2373]]],\n",
       "       grad_fn=<NativeLayerNormBackward0>), pooler_output=tensor([[ 2.4399, -0.6065,  0.1238,  ...,  0.5827, -1.8151, -0.8790],\n",
       "        [ 2.0636, -1.0961, -1.1886,  ...,  1.3235, -1.9595, -0.6022],\n",
       "        [ 1.4281, -2.0069,  0.1436,  ...,  0.5067, -0.6757, -0.7580],\n",
       "        [ 1.9897, -0.7072, -0.3973,  ..., -0.1963, -0.7579, -0.2627],\n",
       "        [-0.0761, -2.2293, -0.2794,  ...,  0.1800, -0.0108, -1.3161]],\n",
       "       grad_fn=<IndexBackward0>), hidden_states=None, attentions=None), vision_model_output=BaseModelOutputWithPooling(last_hidden_state=tensor([[[ 0.0431,  0.1501, -0.0281,  ...,  0.2843,  0.1739, -0.1156],\n",
       "         [ 0.0453,  0.1651, -0.9513,  ...,  0.2994,  0.4401,  0.3351],\n",
       "         [-0.6117,  0.0812, -0.1359,  ...,  0.2054,  0.7621,  0.5867],\n",
       "         ...,\n",
       "         [ 0.2488,  0.5939,  0.0409,  ...,  0.3570,  0.4249, -0.1869],\n",
       "         [ 0.1574,  0.9515, -0.3969,  ...,  0.7838,  0.3927, -0.1195],\n",
       "         [ 0.8089,  0.6573, -0.2992,  ...,  0.2770,  0.6903, -0.0528]]],\n",
       "       grad_fn=<AddBackward0>), pooler_output=tensor([[ 3.6876e-01,  2.5474e-01,  6.1117e-02,  4.4453e-01,  1.3498e+00,\n",
       "         -5.8634e-02,  1.1738e+00, -3.1466e-01,  6.1434e-01,  1.8850e-01,\n",
       "         -7.1046e-02,  2.4909e-01,  2.1352e-01, -1.0038e+00,  5.2575e-01,\n",
       "         -2.0727e-02,  8.3236e-01,  3.0740e-01,  1.1817e+00,  1.0194e+00,\n",
       "          1.8572e+00,  4.1484e-01,  6.6622e-01,  1.7440e+00,  6.1913e-01,\n",
       "          2.6965e-01,  5.5139e-01,  3.7193e-01,  7.5987e-01,  1.9833e+00,\n",
       "         -9.0595e+00, -1.3379e-01, -5.6480e-01, -2.0065e+00,  2.3457e-01,\n",
       "          2.6123e+00,  6.3655e-01, -5.8060e-02,  4.6433e-01, -7.2954e-01,\n",
       "         -1.1507e-01,  8.9655e-02, -6.3002e-01,  3.2768e-01, -2.5500e-01,\n",
       "         -4.6387e-01,  2.3012e-01,  3.4706e-01,  1.6116e-01,  6.9458e-01,\n",
       "          7.8674e-01,  1.2930e+00,  1.7324e+00,  3.5356e-01, -6.1860e-01,\n",
       "         -3.2987e-01,  7.0812e-01, -1.0158e+00,  3.2204e-01,  6.7052e-01,\n",
       "          4.3620e-01, -4.0782e-01,  1.2778e+00, -7.2809e-01, -4.1791e-01,\n",
       "         -1.7821e-02, -6.0440e-02,  3.9734e-01,  5.3132e-01, -1.2152e+00,\n",
       "         -2.2935e-01,  2.7208e-01,  5.4875e-01, -9.7788e-01,  7.2909e-01,\n",
       "         -3.9370e-01,  4.9250e-01, -1.4410e-01, -6.2987e-01,  4.1250e-01,\n",
       "         -7.9737e-01,  5.0471e-01,  2.3033e-01,  1.5571e-01,  6.5058e-01,\n",
       "          1.1770e-01,  5.3024e-01,  1.3130e+00,  3.1234e-01,  2.4975e+00,\n",
       "          1.1247e+00,  3.3321e-01,  1.7480e+00,  9.8305e-01, -1.0341e+00,\n",
       "          8.9807e-01, -7.2126e-01,  4.9319e-01,  5.7261e-01, -8.4586e-02,\n",
       "         -5.5383e-01, -3.0385e-01, -4.9414e-01, -6.7136e-01, -1.2846e+00,\n",
       "         -4.1581e-01,  4.9001e-01, -5.5588e-01,  1.4578e-01,  5.4073e-04,\n",
       "          2.3385e-01,  5.3766e-01,  3.2305e-01, -6.5275e-01, -2.8267e-01,\n",
       "         -1.2825e-01,  5.1292e-01, -2.6443e+00, -4.1453e-01,  3.0249e-01,\n",
       "         -1.6370e-01, -1.7335e-01, -4.1858e-01, -3.9724e-01, -7.0388e-01,\n",
       "          6.4647e-01,  1.1049e+00,  4.1158e-01, -1.2833e+00,  3.2701e-01,\n",
       "         -2.4563e-01, -7.2122e-01,  1.2100e+00,  9.6963e-01,  1.4085e+00,\n",
       "          3.0094e+00, -2.2261e-01,  5.9492e-01,  9.6946e-01, -1.2671e+00,\n",
       "          4.7579e-01, -4.3704e-01, -1.8051e-01, -1.5553e+00, -2.0550e-01,\n",
       "         -5.1013e-01,  4.2404e-01,  1.0649e+00,  1.3369e+00,  1.2014e+00,\n",
       "          7.0169e-02,  2.4067e-01, -5.9984e-01,  1.9232e-01, -9.0023e-01,\n",
       "          6.0477e-03,  1.6086e-01,  8.8745e-01, -8.8812e-01,  3.5236e+00,\n",
       "         -4.5315e-02,  1.4172e+00,  2.7087e-01, -1.2166e-01,  3.0675e-01,\n",
       "          7.5824e-01, -3.1009e-01, -1.8093e+00, -5.8399e-01,  6.9655e-01,\n",
       "          3.3678e-01,  5.3341e-01,  1.6998e-01, -1.1533e+00,  3.6904e-01,\n",
       "          1.6809e-01, -1.4190e-01,  5.5769e-01, -1.0726e+00,  3.4645e-01,\n",
       "         -1.3037e+00, -5.6781e-01,  1.8741e-01, -1.6068e-02, -5.1583e-01,\n",
       "          1.9224e+00, -9.7119e-01,  1.8034e-01,  1.7875e+00, -4.8019e-01,\n",
       "          2.6114e-01,  1.2492e-01,  7.9090e-01,  1.6962e+00, -3.8325e-01,\n",
       "         -8.4141e-01,  1.0419e+00, -6.0823e-01,  7.8943e-01,  1.5759e+00,\n",
       "         -1.0307e-01, -1.7352e+00, -1.6903e-01,  3.4771e-01, -1.0869e+00,\n",
       "         -5.1849e-01, -2.5387e-01,  1.3597e+00, -2.8146e-01, -1.1641e-01,\n",
       "         -7.9109e-01,  8.5985e-01,  1.3765e+00,  9.7572e-02, -2.7405e-01,\n",
       "          1.0410e+00,  2.1053e-01,  1.4510e+00,  3.4046e-01,  6.3297e-01,\n",
       "         -9.4544e-01, -3.8194e-01,  8.6003e-01,  6.0377e-01, -6.6139e-01,\n",
       "         -9.3394e-01,  2.1977e+00,  1.7675e-01,  4.9128e-01, -5.9386e-01,\n",
       "         -1.2778e+00,  6.4437e-01,  1.1478e+00, -2.1169e-01, -1.1690e-01,\n",
       "         -4.9727e-02,  3.9189e-01, -1.0240e+00, -3.5606e-01, -9.3863e-02,\n",
       "          7.4153e-01,  1.8104e-01,  1.2209e+00, -6.6133e-01,  4.2371e-01,\n",
       "          7.9091e-01,  7.4317e-01, -6.0472e-01, -1.2009e-01,  8.8254e-02,\n",
       "          5.9193e-01,  5.0520e-01,  1.5920e+00,  6.6147e-01,  3.1587e-01,\n",
       "          4.0307e-02,  4.2707e-01,  6.8131e-01,  1.0247e-01,  3.1978e-01,\n",
       "          7.0556e-02, -2.7189e-01,  6.2157e-01,  2.2164e-02, -1.8735e-01,\n",
       "         -2.2810e-01,  8.0935e-01,  5.4461e-01,  2.5955e+00,  3.7150e-01,\n",
       "         -9.2634e-02, -4.3217e-01, -8.0075e-02, -1.5798e+00, -1.2573e-01,\n",
       "          1.8040e-01,  6.3283e-01,  2.6553e-01, -5.7378e-01,  1.9036e-01,\n",
       "          2.2766e-01, -3.1327e-02,  1.1694e+00,  7.7474e-01,  8.6737e-02,\n",
       "         -2.6394e-01, -1.8639e-01, -4.1169e-01, -7.5554e-01,  3.0787e-01,\n",
       "          4.8657e-01, -1.5532e+00,  4.8224e-01,  1.7361e-01, -2.0575e+00,\n",
       "          3.8412e-01, -4.0585e-01, -8.3866e-01,  2.2034e-01,  1.4321e-02,\n",
       "          4.0994e-01,  2.6998e-01, -5.9115e-01, -3.0926e-01,  6.4957e-01,\n",
       "         -6.3135e-01,  5.8020e-01,  2.3838e-01,  8.4321e-01,  6.2160e-01,\n",
       "          6.5050e-01, -1.9922e-01, -7.8593e-02,  7.6512e-01,  2.1877e-01,\n",
       "          8.2799e-02, -5.6593e-01,  7.3869e-01,  1.0386e+00,  7.0777e-01,\n",
       "          6.1389e-01,  1.6638e+00, -6.6332e-02,  9.3876e-02, -1.0009e+00,\n",
       "          6.9070e-01,  1.3286e-01, -2.8864e-01, -1.1672e-01,  1.5725e+00,\n",
       "          1.6020e+00,  9.1865e-01,  1.1522e+00,  1.8896e-01, -5.1757e-01,\n",
       "          4.8102e-01, -7.5513e+00,  5.7871e-01, -6.9721e-01, -1.0496e+00,\n",
       "         -1.8018e-01, -2.2568e+00, -5.7163e-01,  7.2031e-01,  3.6897e+00,\n",
       "          2.5573e-01,  3.7377e-01, -2.4702e-01, -4.4901e-01,  3.3452e-01,\n",
       "         -2.7581e+00, -6.3946e-01, -1.3542e+00, -1.1528e-01,  7.7117e-01,\n",
       "         -4.9077e-01,  3.1087e-01, -4.5280e-01,  2.5079e-01,  8.6625e-01,\n",
       "         -2.2763e-01,  1.4809e-01,  1.6227e-03,  6.4992e-01,  1.6043e+00,\n",
       "         -7.5420e-01, -2.8183e-01,  2.1473e-01, -2.2296e-02, -5.4178e-01,\n",
       "         -7.2814e-01,  2.8581e-01,  4.3394e-01, -3.5487e-01, -2.2620e-01,\n",
       "         -8.6040e-02,  5.9256e-02,  4.8198e-02,  1.0266e+00,  1.9379e-01,\n",
       "         -3.3991e-01, -4.8780e-01, -1.3950e-01, -1.1003e+00,  6.0946e-01,\n",
       "          9.8506e-01, -6.5748e-01,  1.5923e-01,  5.7891e-01,  7.9097e-01,\n",
       "         -7.5789e-01,  5.0947e-01,  1.2080e+00,  7.6312e-01, -1.0748e-01,\n",
       "          1.1643e+00,  1.5150e+00,  6.4736e-01,  1.0058e+00, -2.4580e-01,\n",
       "          4.7530e-02,  7.7623e-01, -5.5493e-01, -3.4103e-01,  2.4261e-01,\n",
       "          2.9755e-01, -2.9795e-01,  3.5497e-01,  1.1874e+00, -9.3132e-02,\n",
       "          1.6385e+00,  1.2519e+00, -5.0989e-01, -1.0802e+00, -2.9385e-01,\n",
       "          1.1271e+00, -1.3016e+00, -3.0628e-01, -1.3582e+00,  6.2957e-01,\n",
       "         -7.3754e-02,  7.4623e-01, -6.6259e-02,  9.8315e-01,  1.3228e+00,\n",
       "          1.3722e-01, -1.6233e-01,  9.2133e-02,  1.0867e+00,  2.7953e-01,\n",
       "          4.1257e-01, -2.0078e-01,  5.0401e-01, -4.8535e-02, -1.2137e+00,\n",
       "         -3.7987e-01,  1.2541e+00, -6.4550e-02, -2.6259e-03,  1.2355e+00,\n",
       "          9.1573e-01, -4.5683e-02,  2.0598e-01,  3.0923e-01, -4.7901e-01,\n",
       "         -2.0802e-01,  9.8925e-01,  1.2334e+00,  1.7234e+00, -4.1548e-01,\n",
       "          5.9103e-01, -5.9888e-01,  9.6313e-01,  6.8875e-01, -2.3686e-01,\n",
       "          4.3027e-01,  1.1596e+00,  1.3976e+00,  2.4049e-01, -2.4432e-01,\n",
       "          1.3716e+00, -3.6907e-02,  7.2325e-01,  8.3238e-01,  1.3479e+00,\n",
       "         -7.7777e-01,  4.5806e-01,  8.4787e-01, -2.4749e-01, -2.6575e-01,\n",
       "          9.3225e-01, -9.9274e-01,  5.9102e-01,  1.1053e+00, -4.8963e-01,\n",
       "         -4.1621e-01, -4.3042e-01,  1.1788e-01,  2.1864e-01, -5.9098e-02,\n",
       "          3.4373e-01, -8.4491e-02,  1.4680e+00,  6.3408e-01,  2.8810e+00,\n",
       "          7.1113e-01, -7.5048e-01,  6.7793e-01,  1.0650e+00, -3.0263e+00,\n",
       "          5.9902e-01,  6.3455e-01, -1.3113e-01, -4.7692e-01, -1.5700e+00,\n",
       "          7.4638e-01, -1.9595e-01,  4.1384e-01,  5.7416e-01,  2.4391e+00,\n",
       "         -2.5094e-01,  8.3423e-01,  1.0657e+00, -7.5872e-01,  5.2247e-02,\n",
       "          9.7426e-01,  8.8476e-01,  2.2064e-01,  9.7888e-01,  5.4056e-02,\n",
       "          9.0183e-01,  5.2085e-01, -6.4556e-01,  1.6587e+00, -3.3009e-01,\n",
       "          7.0458e-01, -5.6375e-01, -3.4181e-02,  2.4606e-01, -5.7250e-02,\n",
       "         -9.2420e-01, -1.7961e-01, -5.2718e-01, -8.1474e-01, -9.7314e-01,\n",
       "          2.6443e-02,  2.0999e-01,  9.1017e-02,  1.3580e+00,  1.3991e+00,\n",
       "          9.5871e-02, -1.3049e-02,  1.4033e+00,  3.9448e-01,  1.9785e-01,\n",
       "         -1.2058e-01,  2.8610e-01,  1.6780e+00,  1.0628e+00,  5.5531e-02,\n",
       "          7.1380e-01,  5.7618e-01,  4.8370e-01, -5.0001e-01,  1.0116e+00,\n",
       "         -1.5372e+00,  1.3614e+00, -3.6318e-01, -6.2707e-01, -1.0864e-01,\n",
       "         -1.0516e+00,  4.9288e-01, -8.9568e-01,  1.2759e+00, -4.9118e-01,\n",
       "          4.6059e-01,  3.6462e-01,  3.0909e-01, -6.4777e-02,  7.4882e-02,\n",
       "          5.5795e-01, -3.1345e-01,  6.3220e-01, -4.6878e-01,  1.4692e+00,\n",
       "          1.1955e+00,  2.6764e-01, -8.5586e-02,  5.1954e-01,  4.9270e-01,\n",
       "          8.7732e-01, -7.1319e-01,  1.7430e+00,  2.3224e+00,  8.5053e-01,\n",
       "         -1.6962e-01, -7.8889e-01,  2.9532e+00, -3.0064e-01,  4.1752e-01,\n",
       "          1.7443e+00,  7.1074e-01,  2.4773e-01,  3.7396e-02,  4.7612e-01,\n",
       "          3.1955e-01,  3.0916e-01, -7.4683e-01,  7.1336e-02, -1.9419e-01,\n",
       "         -6.2618e-01, -3.2297e-01, -2.6132e-01,  1.2033e-01, -2.3385e-01,\n",
       "          2.9821e-01, -5.9405e-01,  1.9384e-01,  1.0335e+00,  3.5693e-01,\n",
       "          3.6956e-01,  2.1867e-01, -1.4439e-01,  6.9591e-01, -2.8418e-01,\n",
       "         -9.4046e-02, -2.7454e-01,  9.1645e-01, -6.7789e-01,  1.1640e-01,\n",
       "          9.5784e-01,  1.0840e+00,  1.1880e+00, -3.1336e-01,  6.0194e-01,\n",
       "          6.8035e-01,  1.4510e+00,  1.0981e+00, -8.4514e-02,  1.0095e+00,\n",
       "         -3.9163e-01,  6.7805e-01,  8.6870e-01,  2.2238e+00,  2.5645e+00,\n",
       "          4.0702e+00,  1.5359e+00,  8.1368e-03, -9.2496e-01,  1.2736e+00,\n",
       "          1.1425e+00,  2.6697e-01, -6.3198e-01, -4.5741e-01,  1.0935e+00,\n",
       "          7.3178e-01, -4.1415e-02,  5.7139e-01,  1.1418e+00,  5.8177e-01,\n",
       "          1.1001e+00, -5.8042e-01,  5.2106e-01, -6.4313e-01,  1.4678e-01,\n",
       "          2.9017e-01,  7.9962e-01, -1.7089e-01, -8.4598e-01, -8.1075e-01,\n",
       "         -6.1098e-01,  9.7638e-01,  2.3188e-01,  3.6791e-01,  1.6238e+00,\n",
       "         -4.0261e-01,  1.7706e-01,  4.6620e-01, -7.1256e-01,  1.0181e+00,\n",
       "          3.3980e-01, -1.0966e+00,  7.0484e-01,  7.3778e-01,  3.8488e-01,\n",
       "         -6.1552e-01,  3.0240e-01,  6.4786e-01,  8.0450e-01,  7.0378e-01,\n",
       "          5.2660e-01,  1.8006e-01,  6.0009e-01,  3.4463e+00, -4.8582e-01,\n",
       "          1.8802e+00,  6.0169e-01,  2.1066e-01, -1.4681e+00, -9.1318e-01,\n",
       "          1.0149e+00,  7.8824e-02, -6.9904e-01,  1.3347e+00,  7.6117e-01,\n",
       "          1.0081e+00,  1.0666e+00, -3.8252e-01,  1.5912e-01, -8.5502e-01,\n",
       "          1.7611e-01,  4.9162e-01,  1.4365e-02,  4.9599e-01,  6.0315e-01,\n",
       "          2.7033e-01,  4.1119e-01,  1.5345e-01,  1.2022e+00,  3.8535e-01,\n",
       "          1.9514e-01,  5.8202e-01, -1.6519e-01, -7.6442e-01,  3.9589e-01,\n",
       "         -8.7046e-01,  5.9105e-01, -5.0853e-01,  3.1005e-02,  3.8403e-01,\n",
       "          1.0314e-01,  1.2457e+00, -2.4774e-01,  3.5597e-01,  2.5243e-01,\n",
       "         -5.8100e-01, -2.6118e+00,  7.0387e-01, -2.2817e-01,  4.9058e-01,\n",
       "          9.2411e-02,  2.6840e-01,  5.7761e-02,  1.1183e+00, -5.9255e-02,\n",
       "         -4.9419e-01, -3.9617e-01,  4.1626e-02,  1.2244e+00, -2.2613e-01,\n",
       "         -6.3361e-01, -4.4124e-02, -5.1898e-01, -1.6214e-01, -2.6207e-01,\n",
       "          1.2239e+00,  4.7197e-01,  1.0617e+00,  2.0806e+00, -7.6200e-01,\n",
       "         -6.9385e-01, -6.5684e-02,  4.5187e-01,  6.0090e-01,  7.3049e-01,\n",
       "          1.2217e+00,  8.3495e-01, -1.2471e+00,  1.4236e+00, -7.3523e-01,\n",
       "         -4.4942e-01, -8.6372e-02, -2.3539e+00,  9.1103e-02, -1.1917e+00,\n",
       "          4.1452e-01,  1.2699e+00,  1.1744e-01,  1.0606e+00, -2.0898e+00,\n",
       "          2.3866e+00,  4.0380e-01,  3.7965e-01,  4.1918e-01,  4.6207e-02,\n",
       "          1.1413e+00,  9.1054e-01, -2.9659e-01]],\n",
       "       grad_fn=<NativeLayerNormBackward0>), hidden_states=None, attentions=None))"
      ]
     },
     "execution_count": 84,
     "metadata": {},
     "output_type": "execute_result"
    }
   ],
   "source": [
    "output"
   ]
  },
  {
   "cell_type": "code",
   "execution_count": null,
   "id": "f8e42154-6a44-4f69-9686-7f374a72d698",
   "metadata": {},
   "outputs": [],
   "source": [
    "\n",
    "\n",
    "oo"
   ]
  },
  {
   "cell_type": "code",
   "execution_count": null,
   "id": "c80d3088-c68a-4338-80bf-64c7fdee3ddd",
   "metadata": {},
   "outputs": [],
   "source": []
  },
  {
   "cell_type": "code",
   "execution_count": null,
   "id": "aaf1ba31-f02c-4210-b944-459725178c9c",
   "metadata": {},
   "outputs": [],
   "source": []
  },
  {
   "cell_type": "code",
   "execution_count": 283,
   "id": "f12c1c61-33d3-4dd5-864a-15c281700ad0",
   "metadata": {},
   "outputs": [],
   "source": [
    "from pathlib import Path\n",
    "from typing import Any\n",
    "\n",
    "import pandas as pd\n",
    "import torch\n",
    "from datasets import DatasetDict, load_dataset\n",
    "from PIL.JpegImagePlugin import JpegImageFile\n",
    "from tqdm.auto import tqdm\n",
    "from transformers import CLIPModel, CLIPProcessor\n",
    "from transformers.models.clip.modeling_clip import CLIPOutput\n",
    "from transformers.tokenization_utils_base import BatchEncoding\n",
    "\n",
    "\n",
    "def process_and_save_clip_embeddings(\n",
    "    output_dir: Path | str,\n",
    "    topk: int = 1,\n",
    "    shortest_edge: int = 224,\n",
    "    device: str = \"cuda\" if torch.cuda.is_available() else \"cpu\",\n",
    ") -> None:\n",
    "    \"\"\"\n",
    "    Process Flickr30k dataset and save CLIP embeddings with topk similar captions.\n",
    "\n",
    "    Args:\n",
    "        output_dir: Directory to save the processed dataset\n",
    "        split: Dataset split ('train', 'test', 'validation')\n",
    "        topk: Number of most similar captions to keep per image\n",
    "        batch_size: Batch size for processing\n",
    "        device: Device to use for computation\n",
    "    \"\"\"\n",
    "    # Load CLIP model and processor\n",
    "    model = CLIPModel.from_pretrained(\"openai/clip-vit-base-patch32\").to(device)  # type: ignore\n",
    "    processor: CLIPProcessor = CLIPProcessor.from_pretrained(\n",
    "        \"openai/clip-vit-base-patch32\"\n",
    "    )  # type: ignore\n",
    "\n",
    "    # Load Flickr dataset\n",
    "    flickr = load_dataset(\"nlphuji/flickr30k\")\n",
    "    dataset: DatasetDict = flickr[\"test\"]  # type: ignore\n",
    "\n",
    "    # Create output directory\n",
    "    output_dir = Path(output_dir)\n",
    "    output_dir.mkdir(parents=True, exist_ok=True)\n",
    "\n",
    "    # Prepare output file\n",
    "\n",
    "    data_dict = {\"train\": [], \"test\": [], \"val\": []}\n",
    "\n",
    "    # Process dataset in batches\n",
    "    for row in tqdm(dataset, desc=\"Processing Dataset\", total=len(dataset)):\n",
    "        image: JpegImageFile = row[\"image\"]\n",
    "        captions: list[str] = row[\"caption\"]\n",
    "        split: str = row[\"split\"]\n",
    "        width, height = image.size\n",
    "        image_id: int = int(row[\"img_id\"])\n",
    "        filename: str = row[\"filename\"]\n",
    "\n",
    "        # Pass the image & 5 captions to the CLIP Processor\n",
    "        vision_input: BatchEncoding = processor(\n",
    "            images=image, return_tensors=\"pt\", size={\"shortest_edge\": shortest_edge}, padding=True\n",
    "        )\n",
    "\n",
    "        model_input: BatchEncoding = processor(\n",
    "            text=captions,\n",
    "            images=image,\n",
    "            return_tensors=\"pt\",\n",
    "            size={\"shortest_edge\": shortest_edge},\n",
    "            padding=True\n",
    "        ).to(device)\n",
    "\n",
    "        # Pass this input into CLIP to get outputs\n",
    "        model_output: CLIPOutput = model(**model_input)\n",
    "\n",
    "        # This obtains the CLS token for the image (batch_size, d_model=512)\n",
    "        image_output = model.get_image_features(**vision_input).squeeze()  # type: ignore\n",
    "\n",
    "        # We will now pick the top-k most similar captions\n",
    "        vals, caption_indices = model_output[\"logits_per_image\"].topk(k=topk)\n",
    "        for idx in caption_indices[0].tolist():\n",
    "            data_row = {\n",
    "                \"img_embedding\": image_output.tolist(),\n",
    "                \"caption\": captions[idx],\n",
    "                \"img_id\": image_id,\n",
    "                \"filename\": filename,\n",
    "            }\n",
    "            # Append the row to the data_list for the corresponding split\n",
    "            data_dict[split].append(data_row)\n",
    "\n",
    "    # Once done with making lists, create dataframes, save as parquet\n",
    "    save_dataframe_parquet(\n",
    "        data_dict=data_dict, topk=topk, split=\"train\", output_dir=output_dir\n",
    "    )\n",
    "    save_dataframe_parquet(\n",
    "        data_dict=data_dict, topk=topk, split=\"val\", output_dir=output_dir\n",
    "    )\n",
    "    save_dataframe_parquet(\n",
    "        data_dict=data_dict, topk=topk, split=\"test\", output_dir=output_dir\n",
    "    )\n",
    "\n",
    "\n",
    "def save_dataframe_parquet(\n",
    "    data_dict: dict[str, Any], topk: int, split: str, output_dir: Path | str\n",
    "):\n",
    "    df = pd.DataFrame(data_dict[split])\n",
    "    filepath = Path(output_dir) / f\"flickr_{split}_top{topk}.parquet\"\n",
    "    df.to_parquet(filepath)\n"
   ]
  },
  {
   "cell_type": "code",
   "execution_count": 284,
   "id": "5ba5458a-3969-40ed-bf1d-4731cd86febc",
   "metadata": {},
   "outputs": [
    {
     "name": "stdout",
     "output_type": "stream",
     "text": [
      "configs  data  datafiles  model  notebooks  utils\n"
     ]
    },
    {
     "name": "stderr",
     "output_type": "stream",
     "text": [
      "huggingface/tokenizers: The current process just got forked, after parallelism has already been used. Disabling parallelism to avoid deadlocks...\n",
      "To disable this warning, you can either:\n",
      "\t- Avoid using `tokenizers` before the fork if possible\n",
      "\t- Explicitly set the environment variable TOKENIZERS_PARALLELISM=(true | false)\n"
     ]
    }
   ],
   "source": [
    "!ls .."
   ]
  },
  {
   "cell_type": "code",
   "execution_count": 285,
   "id": "72c76235-0780-42e9-9cd5-88d22d9b072f",
   "metadata": {},
   "outputs": [],
   "source": [
    "output_dir = Path(\"../datafiles\")"
   ]
  },
  {
   "cell_type": "code",
   "execution_count": null,
   "id": "0e6d5a0b-a9ca-4a5a-ae38-50de3cfc6931",
   "metadata": {},
   "outputs": [
    {
     "name": "stderr",
     "output_type": "stream",
     "text": [
      "Processing Dataset:   1%|▊                                                                                                                   | 222/31014 [01:02<2:21:36,  3.62it/s]"
     ]
    }
   ],
   "source": [
    "process_and_save_clip_embeddings(output_dir, topk=1, shortest_edge=150)"
   ]
  },
  {
   "cell_type": "code",
   "execution_count": null,
   "id": "049b4162-4219-429a-b10f-f267bb1f799c",
   "metadata": {},
   "outputs": [],
   "source": []
  }
 ],
 "metadata": {
  "kernelspec": {
   "display_name": "Python 3 (ipykernel)",
   "language": "python",
   "name": "python3"
  },
  "language_info": {
   "codemirror_mode": {
    "name": "ipython",
    "version": 3
   },
   "file_extension": ".py",
   "mimetype": "text/x-python",
   "name": "python",
   "nbconvert_exporter": "python",
   "pygments_lexer": "ipython3",
   "version": "3.12.8"
  }
 },
 "nbformat": 4,
 "nbformat_minor": 5
}
